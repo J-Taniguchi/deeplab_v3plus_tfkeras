{
 "cells": [
  {
   "cell_type": "code",
   "execution_count": null,
   "metadata": {},
   "outputs": [],
   "source": [
    "import os\n",
    "import sys\n",
    "import shutil"
   ]
  },
  {
   "cell_type": "markdown",
   "metadata": {},
   "source": [
    "If you use yaml file to set parameters, use below cell as Code."
   ]
  },
  {
   "cell_type": "markdown",
   "metadata": {},
   "source": [
    "import yaml\n",
    "conf_file = \"conf.yaml\"\n",
    "with open(conf_file, \"r\") as f:\n",
    "    conf = yaml.safe_load(f)"
   ]
  },
  {
   "cell_type": "markdown",
   "metadata": {},
   "source": [
    "If you don't use yaml file to set parameters, use below.\n",
    "\n",
    "\n",
    "|  key  |  description  |\n",
    "| :---: | :--- |\n",
    "|use_devices | use gpu number. If you want to do distributed learning, write like \"0,1,2\" |\n",
    "|model_dir                                           |all outputs are written here. <br>e.g., trained model, inference results, etc..|\n",
    "|  train_x_paths<br> valid_x_paths<br> test_x_paths  |  directory where input images exist.|\n",
    "|  train_y_paths<br> valid_y_paths                   |  directory where segmentation image exsit.<br> Each segmentation image name must be the same for corresponding input image.  |\n",
    "|which_to_inference <br> which_to_visualise          | chosse from \"train\", \"valid\", \"test\".|\n",
    "|output_activation                                   | chosse \"softmax\" or \"sigmoid\". <br>softmax means each pixcel is assigned to 1 label.<br>sigmoid means each pixel can assigned 1 or more labels.|\n",
    "|batch_size | batch size|\n",
    "|n_epochs   |nuber of epochs |\n",
    "|image_size | [height, width] |\n",
    "|optimizer  |\"Adam\" or \"Nadam\" or \"SGD\" |\n",
    "|loss       |choose one .<br>\"CE\": cross entropy <br> \"FL\": focal loss <br>\"GDL\": generalized dice loss\n",
    "|use_tensorboard| if you want to use, True. If not, False.|"
   ]
  },
  {
   "cell_type": "code",
   "execution_count": null,
   "metadata": {},
   "outputs": [],
   "source": [
    "conf = dict()\n",
    "conf[\"use_devices\"] = \"0\"\n",
    "\n",
    "conf[\"model_dir\"] = \"path/to/output_dir\"\n",
    "conf[\"label_file_path\"] = \"path/to/label_list.csv\"\n",
    "\n",
    "conf[\"train_x_paths\"] = [\"path/to/train_x1\", \"path/to/train_x2\"]\n",
    "conf[\"train_y_paths\"] = [\"path/to/train_y1\", \"path/to/train_y2\"]\n",
    "\n",
    "conf[\"valid_x_paths\"] = [\"path/to/valid_x1\", \"path/to/valid_x2\"]\n",
    "conf[\"valid_y_paths\"] = [\"path/to/valid_y1\", \"path/to/valid_y2\"]\n",
    "\n",
    "# below 3 lines are not needed in training phase.\n",
    "# conf[\"test_x_paths\"] = [\"path/to/test_x1\", \"path/to/test_x2\"] # if you don't have test data, enter empty list.([])\n",
    "# conf[\"which_to_inference\"] = [\"train\", \"valid\", \"test\"]\n",
    "# conf[\"which_to_visualise\"] = [\"valid\", \"test\"]\n",
    "\n",
    "conf[\"output_activation\"] = \"softmax\"\n",
    "\n",
    "conf[\"batch_size\"] = 8\n",
    "conf[\"n_epochs\"] = 1000\n",
    "conf[\"image_size\"] = [512, 512]\n",
    "conf[\"optimzer\"] = \"Adam\"\n",
    "conf[\"loss\"] = \"FL\"\n",
    "conf[\"use_tensorboard\"] = False\n"
   ]
  },
  {
   "cell_type": "code",
   "execution_count": null,
   "metadata": {},
   "outputs": [],
   "source": [
    "use_devices = str(conf[\"use_devices\"])\n",
    "out_dir = conf[\"model_dir\"]\n",
    "label_file_path = conf[\"label_file_path\"]\n",
    "\n",
    "batch_size = conf[\"batch_size\"]\n",
    "n_epochs = conf[\"n_epochs\"]\n",
    "output_activation = conf[\"output_activation\"]\n",
    "image_size = conf[\"image_size\"]\n",
    "loss = conf[\"loss\"]\n",
    "optimizer = conf[\"optimizer\"]\n",
    "class_weight = conf[\"class_weight\"]\n",
    "use_tensorboard = conf[\"use_tensorboard\"]"
   ]
  },
  {
   "cell_type": "markdown",
   "metadata": {},
   "source": [
    "gpu setting"
   ]
  },
  {
   "cell_type": "code",
   "execution_count": null,
   "metadata": {},
   "outputs": [],
   "source": [
    "os.environ[\"CUDA_VISIBLE_DEVICES\"] = use_devices\n",
    "os.environ[\"TF_FORCE_GPU_ALLOW_GROWTH\"] = \"true\""
   ]
  },
  {
   "cell_type": "markdown",
   "metadata": {},
   "source": [
    "import modules"
   ]
  },
  {
   "cell_type": "code",
   "execution_count": null,
   "metadata": {},
   "outputs": [],
   "source": [
    "\n",
    "import numpy as np\n",
    "import pandas as pd\n",
    "import matplotlib\n",
    "import matplotlib.pyplot as plt\n",
    "import tensorflow as tf\n",
    "import tensorflow.keras as keras\n",
    "\n",
    "from deeplab_v3plus_tfkeras.model import deeplab_v3plus_transfer_os16\n",
    "from deeplab_v3plus_tfkeras.metrics import make_IoU\n",
    "from deeplab_v3plus_tfkeras.label import Label\n",
    "from deeplab_v3plus_tfkeras.input_data_processing import make_xy_path_list\n",
    "import deeplab_v3plus_tfkeras.data_gen as my_generator\n",
    "import deeplab_v3plus_tfkeras.loss as my_loss_func\n",
    "tf.compat.v1.enable_eager_execution()\n",
    "matplotlib.use('Agg')"
   ]
  },
  {
   "cell_type": "markdown",
   "metadata": {},
   "source": [
    "some settings"
   ]
  },
  {
   "cell_type": "code",
   "execution_count": null,
   "metadata": {},
   "outputs": [],
   "source": [
    "label = Label(label_file_path)\n",
    "if class_weight is not None:\n",
    "    label.add_class_weight(class_weight)\n",
    "\n",
    "n_gpus = len(use_devices.split(','))\n",
    "\n",
    "batch_size = batch_size * n_gpus\n",
    "\n",
    "os.makedirs(out_dir, exist_ok=True)\n",
    "\n",
    "preprocess = keras.applications.xception.preprocess_input"
   ]
  },
  {
   "cell_type": "markdown",
   "metadata": {},
   "source": [
    "make training dataset"
   ]
  },
  {
   "cell_type": "code",
   "execution_count": null,
   "metadata": {},
   "outputs": [],
   "source": [
    "train_x_paths, train_y_paths = make_xy_path_list(conf[\"train_x_paths\"], conf[\"train_y_paths\"])\n",
    "n_train_data = len(train_x_paths)\n",
    "train_dataset, train_map_f = my_generator.make_path_generator(\n",
    "    train_x_paths,\n",
    "    train_y_paths,\n",
    "    image_size,\n",
    "    label,\n",
    "    preprocess,\n",
    "    augmentation=True,\n",
    "    # augmentation=False,\n",
    "    resize_or_crop=\"crop\",\n",
    "    data_type=\"image\")\n",
    "\n",
    "train_dataset = train_dataset.shuffle(n_train_data)\n",
    "train_dataset = train_dataset.map(train_map_f, num_parallel_calls=tf.data.experimental.AUTOTUNE)\n",
    "train_dataset = train_dataset.batch(batch_size)\n",
    "train_dataset = train_dataset.prefetch(buffer_size=tf.data.experimental.AUTOTUNE)"
   ]
  },
  {
   "cell_type": "markdown",
   "metadata": {},
   "source": [
    "make validation dataset"
   ]
  },
  {
   "cell_type": "code",
   "execution_count": null,
   "metadata": {},
   "outputs": [],
   "source": [
    "valid_x_paths, valid_y_paths = make_xy_path_list(conf[\"valid_x_paths\"], conf[\"valid_y_paths\"])\n",
    "n_valid_data = len(valid_x_paths)\n",
    "valid_dataset, valid_map_f = my_generator.make_path_generator(\n",
    "    valid_x_paths,\n",
    "    valid_y_paths,\n",
    "    image_size,\n",
    "    label,\n",
    "    preprocess,\n",
    "    augmentation=False,\n",
    "    resize_or_crop=\"crop\",\n",
    "    data_type=\"image\")\n",
    "\n",
    "valid_dataset = valid_dataset.map(valid_map_f, num_parallel_calls=tf.data.experimental.AUTOTUNE)\n",
    "valid_dataset = valid_dataset.batch(batch_size)\n",
    "valid_dataset = valid_dataset.prefetch(buffer_size=tf.data.experimental.AUTOTUNE)"
   ]
  },
  {
   "cell_type": "markdown",
   "metadata": {},
   "source": [
    "define loss function"
   ]
  },
  {
   "cell_type": "code",
   "execution_count": null,
   "metadata": {},
   "outputs": [],
   "source": [
    "if output_activation == \"softmax\":\n",
    "    if loss == \"CE\":\n",
    "        loss_function = tf.keras.losses.categorical_crossentropy\n",
    "    elif loss == \"FL\":\n",
    "        fl_alpha_list = [0.25] * label.n_labels\n",
    "        fl_gamma_list = [2.0] * label.n_labels\n",
    "        loss_function = \\\n",
    "            my_loss_func.make_focal_loss(label.n_labels,\n",
    "                                         fl_alpha_list,\n",
    "                                         fl_gamma_list)\n",
    "    elif loss == \"GDL\":\n",
    "        loss_function = my_loss_func.generalized_dice_loss\n",
    "    else:\n",
    "        raise Exception(loss + \" is not supported.\")\n",
    "\n",
    "elif output_activation == \"sigmoid\":\n",
    "    if loss == \"CE\":\n",
    "        loss_function = keras.losses.binary_crossentropy\n",
    "    elif loss == \"FL\":\n",
    "        fl_alpha_list = [0.25] * label.n_labels\n",
    "        fl_gamma_list = [2.0] * label.n_labels\n",
    "        loss_function = \\\n",
    "            my_loss_func.make_focal_loss(label.n_labels,\n",
    "                                         fl_alpha_list,\n",
    "                                         fl_gamma_list)\n",
    "\n",
    "    elif loss == \"GDL\":\n",
    "        loss_function = my_loss_func.generalized_dice_loss\n",
    "    else:\n",
    "        raise Exception(loss + \" is not supported.\")\n"
   ]
  },
  {
   "cell_type": "markdown",
   "metadata": {},
   "source": [
    "define optimizer"
   ]
  },
  {
   "cell_type": "code",
   "execution_count": null,
   "metadata": {},
   "outputs": [],
   "source": [
    "if optimizer == \"Adam\":\n",
    "    opt = tf.keras.optimizers.Adam()\n",
    "elif optimizer == \"Nadam\":\n",
    "    opt = tf.keras.optimizers.Nadam()\n",
    "elif optimizer == \"SGD\":\n",
    "    opt = tf.keras.optimizers.SGD()\n",
    "else:\n",
    "    raise Exception(\n",
    "        \"optimizer \" + optimizer + \" is not supported\")"
   ]
  },
  {
   "cell_type": "markdown",
   "metadata": {},
   "source": [
    "define metrics"
   ]
  },
  {
   "cell_type": "code",
   "execution_count": null,
   "metadata": {},
   "outputs": [],
   "source": [
    "IoU = make_IoU(threshold=0.5)"
   ]
  },
  {
   "cell_type": "markdown",
   "metadata": {},
   "source": [
    "make model"
   ]
  },
  {
   "cell_type": "code",
   "execution_count": null,
   "metadata": {},
   "outputs": [],
   "source": [
    "layer_name_to_decoder = \"block3_sepconv2_bn\"\n",
    "encoder_end_layer_name = \"block13_sepconv2_bn\"\n",
    "\n",
    "if n_gpus >= 2:\n",
    "    strategy = tf.distribute.MirroredStrategy()\n",
    "    with strategy.scope():\n",
    "        encoder = keras.applications.Xception(\n",
    "            input_shape=(*image_size, 3),\n",
    "            weights=\"imagenet\",\n",
    "            include_top=False)\n",
    "\n",
    "        model = deeplab_v3plus_transfer_os16(\n",
    "            label.n_labels,\n",
    "            encoder,\n",
    "            layer_name_to_decoder,\n",
    "            encoder_end_layer_name,\n",
    "            freeze_encoder=False,\n",
    "            output_activation=output_activation,\n",
    "            batch_renorm=False)\n",
    "\n",
    "        model.compile(optimizer=opt,\n",
    "                      loss=loss_function,\n",
    "                      metrics=[IoU],\n",
    "                      run_eagerly=True,\n",
    "                      )\n",
    "else:\n",
    "    encoder = keras.applications.Xception(\n",
    "        input_shape=(*image_size, 3),\n",
    "        weights=\"imagenet\",\n",
    "        include_top=False)\n",
    "\n",
    "    model = deeplab_v3plus_transfer_os16(\n",
    "        label.n_labels,\n",
    "        encoder,\n",
    "        layer_name_to_decoder,\n",
    "        encoder_end_layer_name,\n",
    "        freeze_encoder=False,\n",
    "        output_activation=output_activation,\n",
    "        batch_renorm=False,\n",
    "    )\n",
    "\n",
    "    model.compile(optimizer=opt,\n",
    "                  loss=loss_function,\n",
    "                  metrics=[IoU],\n",
    "                  run_eagerly=True,\n",
    "                  )\n",
    "model.summary()"
   ]
  },
  {
   "cell_type": "markdown",
   "metadata": {},
   "source": [
    "make callbacks"
   ]
  },
  {
   "cell_type": "code",
   "execution_count": null,
   "metadata": {},
   "outputs": [],
   "source": [
    "filepath = os.path.join(out_dir, 'best_model.h5')\n",
    "cp_cb = keras.callbacks.ModelCheckpoint(\n",
    "    filepath,\n",
    "    monitor='val_IoU',\n",
    "    verbose=1,\n",
    "    save_best_only=True,\n",
    "    save_weights_only=False,\n",
    "    mode='max')\n",
    "cbs = [cp_cb]\n",
    "\n",
    "if use_tensorboard:\n",
    "    log_dir = os.path.join(out_dir, \"logs\")\n",
    "    TB_cb = tf.keras.callbacks.TensorBoard(\n",
    "        log_dir=log_dir, write_graph=False)\n",
    "    cbs.append(TB_cb)\n",
    "\n",
    "    if os.path.exists(log_dir):\n",
    "        shutil.rmtree(log_dir)"
   ]
  },
  {
   "cell_type": "markdown",
   "metadata": {},
   "source": [
    "training. It fails sometimes. it may be due to a bug in tf2.2.0. After a few runs, it works."
   ]
  },
  {
   "cell_type": "code",
   "execution_count": null,
   "metadata": {},
   "outputs": [],
   "source": [
    "n_train_batch = int(np.ceil(n_train_data / batch_size))\n",
    "n_valid_batch = int(np.ceil(n_valid_data / batch_size))\n",
    "print(\"train batch:{}\".format(n_train_batch))\n",
    "print(\"valid batch:{}\".format(n_valid_batch))\n",
    "hist = model.fit(\n",
    "    train_dataset,\n",
    "    epochs=n_epochs,\n",
    "    validation_data=valid_dataset,\n",
    "    callbacks=cbs,\n",
    ")"
   ]
  },
  {
   "cell_type": "markdown",
   "metadata": {},
   "source": [
    "write training log"
   ]
  },
  {
   "cell_type": "code",
   "execution_count": null,
   "metadata": {},
   "outputs": [],
   "source": [
    "hists = [hist.history[\"loss\"],\n",
    "         hist.history[\"val_loss\"],\n",
    "         hist.history[\"IoU\"],\n",
    "         hist.history[\"val_IoU\"]]\n",
    "hists = np.array(hists).T\n",
    "hists_df = pd.DataFrame(hists, columns=[\"loss\", \"val_loss\", \"IoU\", \"val_IoU\"])\n",
    "hists_df.to_csv(os.path.join(out_dir, \"training_log.csv\"), index=False)\n",
    "\n",
    "plt.figure(figsize=(20, 10))\n",
    "\n",
    "plt.subplot(1, 2, 1)\n",
    "plt.plot(hists_df[\"loss\"], label=\"loss\")\n",
    "plt.plot(hists_df[\"val_loss\"], label=\"val_loss\")\n",
    "plt.yscale(\"log\")\n",
    "plt.legend()\n",
    "plt.grid()\n",
    "\n",
    "plt.subplot(1, 2, 2)\n",
    "plt.plot(hists_df[\"IoU\"], label=\"IoU\")\n",
    "plt.plot(hists_df[\"val_IoU\"], label=\"val_IoU\")\n",
    "plt.legend()\n",
    "plt.grid()\n",
    "plt.savefig(os.path.join(out_dir, 'losscurve.png'))\n",
    "\n",
    "model.save(os.path.join(out_dir, 'final_epoch.h5'))\n"
   ]
  },
  {
   "cell_type": "code",
   "execution_count": null,
   "metadata": {},
   "outputs": [],
   "source": []
  }
 ],
 "metadata": {
  "@webio": {
   "lastCommId": null,
   "lastKernelId": null
  },
  "kernelspec": {
   "display_name": "Python 3",
   "language": "python",
   "name": "python3"
  },
  "language_info": {
   "codemirror_mode": {
    "name": "ipython",
    "version": 3
   },
   "file_extension": ".py",
   "mimetype": "text/x-python",
   "name": "python",
   "nbconvert_exporter": "python",
   "pygments_lexer": "ipython3",
   "version": "3.7.7"
  }
 },
 "nbformat": 4,
 "nbformat_minor": 4
}

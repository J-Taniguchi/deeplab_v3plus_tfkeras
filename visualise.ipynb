{
 "cells": [
  {
   "cell_type": "code",
   "execution_count": null,
   "metadata": {},
   "outputs": [],
   "source": [
    "import os\n",
    "import sys\n",
    "import joblib\n",
    "n_jobs = 8\n",
    "import yaml"
   ]
  },
  {
   "cell_type": "markdown",
   "metadata": {},
   "source": [
    "If you use yaml file to set parameters, use below cell as code."
   ]
  },
  {
   "cell_type": "markdown",
   "metadata": {},
   "source": [
    "import yaml\n",
    "conf_file = \"conf.yaml\"\n",
    "with open(conf_file, \"r\") as f:\n",
    "    conf = yaml.safe_load(f)"
   ]
  },
  {
   "cell_type": "markdown",
   "metadata": {},
   "source": [
    "If you don't use yaml file to set parameters, use below.\n",
    "\n",
    "\n",
    "|  key  |  description  |\n",
    "| :---: | :--- |\n",
    "|use_devices | use gpu number. If you want to do distributed learning, write like \"0,1,2\" |\n",
    "|model_dir |all outputs are written here. <br>e.g., trained model, inference results, etc..|\n",
    "| train_x_dirs<br> valid_x_dirs<br> test_x_dirs | list of directories where input images exist.|\n",
    "|  train_y_dirs<br> valid_y_dirs                   | list of directories where segmentation image exsit.<br> Each segmentation image name must be the same for corresponding input image.  |\n",
    "|which_to_inference <br> which_to_visualise          | chosse from \"train\", \"valid\", \"test\".|\n",
    "|output_activation                                   | chosse \"softmax\" or \"sigmoid\". <br>softmax means each pixcel is assigned to 1 label.<br>sigmoid means each pixel can assigned 1 or more labels.|\n",
    "|batch_size | batch size|\n",
    "|n_epochs   |nuber of epochs |\n",
    "|image_size | [height, width] |\n",
    "|optimizer  |\"Adam\" or \"Nadam\" or \"SGD\" |\n",
    "|loss       |choose one .<br>\"CE\": cross entropy <br> \"FL\": focal loss <br>\"GDL\": generalized dice loss\n",
    "|metrics| choose one. <br> IoU: Intersection over Union. Jaccard index. <br>F1score: F1 score. F-measure. Dice coefficient.|\n",
    "|check_categorical_metrics| True, if you want to check metrics for each label.|\n",
    "|use_tensorboard| if you want to use, True. If not, False.|\n"
   ]
  },
  {
   "cell_type": "code",
   "execution_count": null,
   "metadata": {},
   "outputs": [],
   "source": [
    "conf = dict()\n",
    "\n",
    "conf[\"model_dir\"] = \"path/to/output_dir\"\n",
    "conf[\"label_file_path\"] = \"path/to/label_list.csv\"\n",
    "\n",
    "# these are not needed for visualising.\n",
    "# conf[\"train_x_dirs\"] = [\"path/to/train_x1\", \"path/to/train_x2\"]\n",
    "# conf[\"train_y_dirs\"] = [\"path/to/train_y1\", \"path/to/train_y2\"]\n",
    "# conf[\"valid_x_dirs\"] = [\"path/to/valid_x1\", \"path/to/valid_x2\"]\n",
    "# conf[\"valid_y_dirs\"] = [\"path/to/valid_y1\", \"path/to/valid_y2\"]\n",
    "\n",
    "\n",
    "conf[\"test_x_dirs\"] = [\"path/to/test_x1\", \"path/to/test_x2\"] # if you don't have test data, enter empty list.([])\n",
    "conf[\"which_to_visualise\"] = [\"valid\", \"test\"]\n",
    "\n",
    "# below lines are not needed in training phase.\n",
    "# conf[\"which_to_inference\"] = [\"train\", \"valid\", \"test\"]\n",
    "\n",
    "\n",
    "# conf[\"output_activation\"] = \"softmax\"\n",
    "\n",
    "# conf[\"batch_size\"] = 8\n",
    "# conf[\"n_epochs\"] = 1000\n",
    "# conf[\"image_size\"] = [512, 512]\n",
    "# conf[\"optimzer\"] = \"Adam\"\n",
    "# conf[\"loss\"] = \"FL\"\n",
    "# conf[\"use_tensorboard\"] = False\n"
   ]
  },
  {
   "cell_type": "code",
   "execution_count": null,
   "metadata": {},
   "outputs": [],
   "source": [
    "model_dir = conf[\"model_dir\"]\n",
    "label_file_path = conf[\"label_file_path\"]\n",
    "test_x_dirs = conf[\"test_x_dirs\"]\n",
    "\n",
    "which_to_visualise = conf[\"which_to_visualise\"]"
   ]
  },
  {
   "cell_type": "markdown",
   "metadata": {},
   "source": [
    "import modules"
   ]
  },
  {
   "cell_type": "code",
   "execution_count": null,
   "metadata": {},
   "outputs": [],
   "source": [
    "from deeplab_v3plus_tfkeras.label import Label\n",
    "from deeplab_v3plus_tfkeras.data_utils import load_inference_results\n",
    "from deeplab_v3plus_tfkeras.vis_utils import convert_y_to_image_array\n",
    "from deeplab_v3plus_tfkeras.vis_utils import visualise_true_pred\n",
    "from deeplab_v3plus_tfkeras.vis_utils import visualise_pred"
   ]
  },
  {
   "cell_type": "markdown",
   "metadata": {},
   "source": [
    "some settings"
   ]
  },
  {
   "cell_type": "code",
   "execution_count": null,
   "metadata": {},
   "outputs": [],
   "source": [
    "fig_dir = os.path.join(model_dir, \"figure\")\n",
    "label = Label(label_file_path)"
   ]
  },
  {
   "cell_type": "markdown",
   "metadata": {},
   "source": [
    "visualise inference results of training dataset."
   ]
  },
  {
   "cell_type": "code",
   "execution_count": null,
   "metadata": {},
   "outputs": [],
   "source": [
    "if \"train\" in which_to_visualise:\n",
    "    fig_out_dir = os.path.join(fig_dir, \"train\")\n",
    "    os.makedirs(fig_out_dir, exist_ok=True)\n",
    "\n",
    "    fpath = os.path.join(model_dir, \"train_inference.h5\")\n",
    "    x, y, pred, last_activation = load_inference_results(fpath)\n",
    "\n",
    "    y_pred = convert_y_to_image_array(pred,\n",
    "                                      label,\n",
    "                                      threshold=0.5,\n",
    "                                      activation=last_activation)\n",
    "    y_true = convert_y_to_image_array(y,\n",
    "                                      label,\n",
    "                                      activation=last_activation)\n",
    "\n",
    "    joblib.Parallel(\n",
    "        n_jobs=n_jobs,\n",
    "        verbose=10,\n",
    "        backend=\"threading\")(joblib.delayed(visualise_true_pred)(\n",
    "            i,\n",
    "            x,\n",
    "            y_true,\n",
    "            y_pred,\n",
    "            fig_out_dir,\n",
    "            last_activation,\n",
    "            label) for i in range(x.shape[0]))"
   ]
  },
  {
   "cell_type": "markdown",
   "metadata": {},
   "source": [
    "visualise inference results of validation dataset."
   ]
  },
  {
   "cell_type": "code",
   "execution_count": null,
   "metadata": {},
   "outputs": [],
   "source": [
    "if \"valid\" in which_to_visualise:\n",
    "    fig_out_dir = os.path.join(fig_dir, \"valid\")\n",
    "    os.makedirs(fig_out_dir, exist_ok=True)\n",
    "\n",
    "    fpath = os.path.join(model_dir, \"valid_inference.h5\")\n",
    "    x, y, pred, last_activation = load_inference_results(fpath)\n",
    "\n",
    "    y_pred = convert_y_to_image_array(pred,\n",
    "                                      label,\n",
    "                                      threshold=0.5,\n",
    "                                      activation=last_activation)\n",
    "    y_true = convert_y_to_image_array(y,\n",
    "                                      label,\n",
    "                                      activation=last_activation)\n",
    "\n",
    "    joblib.Parallel(\n",
    "        n_jobs=n_jobs,\n",
    "        verbose=10,\n",
    "        backend=\"threading\")(joblib.delayed(visualise_true_pred)(\n",
    "            i,\n",
    "            x,\n",
    "            y_true,\n",
    "            y_pred,\n",
    "            fig_out_dir,\n",
    "            last_activation,\n",
    "            label) for i in range(x.shape[0]))\n"
   ]
  },
  {
   "cell_type": "markdown",
   "metadata": {},
   "source": [
    "visualise inference results of test dataset."
   ]
  },
  {
   "cell_type": "code",
   "execution_count": null,
   "metadata": {},
   "outputs": [],
   "source": [
    "if \"test\" in which_to_visualise:\n",
    "    for test_data_dir in test_x_dirs:\n",
    "        print(test_data_dir)\n",
    "        test_name = test_data_dir.split(os.sep)[-1]\n",
    "        fig_out_dir = os.path.join(fig_dir, \"test_\" + test_name)\n",
    "        os.makedirs(fig_out_dir, exist_ok=True)\n",
    "\n",
    "        fpath = os.path.join(model_dir, \"test_\" + test_name + \"_inference.h5\")\n",
    "        x, _, pred, last_activation = load_inference_results(fpath)\n",
    "\n",
    "        y_pred = convert_y_to_image_array(pred,\n",
    "                                          label,\n",
    "                                          threshold=0.5,\n",
    "                                          activation=last_activation)\n",
    "\n",
    "        joblib.Parallel(\n",
    "            n_jobs=n_jobs,\n",
    "            verbose=10,\n",
    "            backend=\"threading\")(joblib.delayed(visualise_pred)(\n",
    "                i,\n",
    "                x,\n",
    "                y_pred,\n",
    "                fig_out_dir,\n",
    "                last_activation,\n",
    "                label) for i in range(len(x)))\n"
   ]
  },
  {
   "cell_type": "code",
   "execution_count": null,
   "metadata": {},
   "outputs": [],
   "source": []
  }
 ],
 "metadata": {
  "@webio": {
   "lastCommId": null,
   "lastKernelId": null
  },
  "kernelspec": {
   "display_name": "Python 3",
   "language": "python",
   "name": "python3"
  },
  "language_info": {
   "codemirror_mode": {
    "name": "ipython",
    "version": 3
   },
   "file_extension": ".py",
   "mimetype": "text/x-python",
   "name": "python",
   "nbconvert_exporter": "python",
   "pygments_lexer": "ipython3",
   "version": "3.7.7"
  }
 },
 "nbformat": 4,
 "nbformat_minor": 4
}

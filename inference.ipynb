{
 "cells": [
  {
   "cell_type": "code",
   "execution_count": null,
   "metadata": {},
   "outputs": [],
   "source": [
    "import os\n",
    "import sys"
   ]
  },
  {
   "cell_type": "markdown",
   "metadata": {},
   "source": [
    "If you use yaml file to set parameters, use below cell as code."
   ]
  },
  {
   "cell_type": "markdown",
   "metadata": {},
   "source": [
    "import yaml\n",
    "conf_file = \"conf.yaml\"\n",
    "with open(conf_file, \"r\") as f:\n",
    "    conf = yaml.safe_load(f)"
   ]
  },
  {
   "cell_type": "markdown",
   "metadata": {},
   "source": [
    "If you don't use yaml file to set parameters, use below.\n",
    "\n",
    "\n",
    "|  key  |  description  |\n",
    "| :---: | :--- |\n",
    "|use_devices | use gpu number. If you want to do distributed learning, write like \"0,1,2\" |\n",
    "|model_dir |all outputs are written here. <br>e.g., trained model, inference results, etc..|\n",
    "| train_x_dirs<br> valid_x_dirs<br> test_x_dirs | list of directories where input images exist.|\n",
    "|  train_y_dirs<br> valid_y_dirs                   | list of directories where segmentation image exsit.<br> Each segmentation image name must be the same for corresponding input image.  |\n",
    "|which_to_inference <br> which_to_visualise          | chosse from \"train\", \"valid\", \"test\".|\n",
    "|output_activation                                   | chosse \"softmax\" or \"sigmoid\". <br>softmax means each pixcel is assigned to 1 label.<br>sigmoid means each pixel can assigned 1 or more labels.|\n",
    "|batch_size | batch size|\n",
    "|n_epochs   |nuber of epochs |\n",
    "|image_size | [height, width] |\n",
    "|optimizer  |\"Adam\" or \"Nadam\" or \"SGD\" |\n",
    "|loss       |choose one .<br>\"CE\": cross entropy <br> \"FL\": focal loss <br>\"GDL\": generalized dice loss\n",
    "|metrics| choose one. <br> IoU: Intersection over Union. Jaccard index. <br>F1score: F1 score. F-measure. Dice coefficient.|\n",
    "|check_categorical_metrics| True, if you want to check metrics for each label.|\n",
    "|use_tensorboard| if you want to use, True. If not, False.|\n"
   ]
  },
  {
   "cell_type": "code",
   "execution_count": null,
   "metadata": {},
   "outputs": [],
   "source": [
    "conf = dict()\n",
    "conf[\"use_devices\"] = \"0\"\n",
    "\n",
    "conf[\"model_dir\"] = \"path/to/output_dir\"\n",
    "conf[\"label_file_path\"] = \"path/to/label_list.csv\"\n",
    "\n",
    "conf[\"train_x_dirs\"] = [\"path/to/train_x1\", \"path/to/train_x2\"]\n",
    "conf[\"train_y_dirs\"] = [\"path/to/train_y1\", \"path/to/train_y2\"]\n",
    "\n",
    "conf[\"valid_x_dirs\"] = [\"path/to/valid_x1\", \"path/to/valid_x2\"]\n",
    "conf[\"valid_y_dirs\"] = [\"path/to/valid_y1\", \"path/to/valid_y2\"]\n",
    "\n",
    "\n",
    "conf[\"test_x_dirs\"] = [\"path/to/test_x1\", \"path/to/test_x2\"] # if you don't have test data, enter empty list.([])\n",
    "conf[\"which_to_inference\"] = [\"train\", \"valid\", \"test\"]\n",
    "# below lines are not needed in training phase.\n",
    "# conf[\"which_to_visualise\"] = [\"valid\", \"test\"]\n",
    "\n",
    "# conf[\"output_activation\"] = \"softmax\"\n",
    "\n",
    "# conf[\"batch_size\"] = 8\n",
    "# conf[\"n_epochs\"] = 1000\n",
    "# conf[\"image_size\"] = [512, 512]\n",
    "# conf[\"optimzer\"] = \"Adam\"\n",
    "# conf[\"loss\"] = \"FL\"\n",
    "# conf[\"use_tensorboard\"] = False\n"
   ]
  },
  {
   "cell_type": "code",
   "execution_count": null,
   "metadata": {},
   "outputs": [],
   "source": [
    "use_devices = str(conf[\"use_devices\"])\n",
    "\n",
    "model_dir = conf[\"model_dir\"]\n",
    "label_file_path = conf[\"label_file_path\"]\n",
    "\n",
    "batch_size = conf[\"batch_size\"]\n",
    "image_size = conf[\"image_size\"]\n",
    "\n",
    "\n",
    "train_x_dirs = conf[\"train_x_dirs\"]\n",
    "train_y_dirs = conf[\"train_y_dirs\"]\n",
    "\n",
    "valid_x_dirs = conf[\"valid_x_dirs\"]\n",
    "valid_y_dirs = conf[\"valid_y_dirs\"]\n",
    "\n",
    "test_x_dirs = conf[\"test_x_dirs\"]"
   ]
  },
  {
   "cell_type": "markdown",
   "metadata": {},
   "source": [
    "gpu setting"
   ]
  },
  {
   "cell_type": "code",
   "execution_count": null,
   "metadata": {},
   "outputs": [],
   "source": [
    "os.environ[\"CUDA_VISIBLE_DEVICES\"] = use_devices\n",
    "os.environ[\"TF_FORCE_GPU_ALLOW_GROWTH\"] = \"true\""
   ]
  },
  {
   "cell_type": "markdown",
   "metadata": {},
   "source": [
    "import modules"
   ]
  },
  {
   "cell_type": "code",
   "execution_count": null,
   "metadata": {},
   "outputs": [],
   "source": [
    "import tensorflow as tf\n",
    "import tensorflow.keras as keras\n",
    "import numpy as np\n",
    "from tqdm import tqdm\n",
    "\n",
    "from deeplab_v3plus_tfkeras.data_utils import make_xy_from_data_paths\n",
    "from deeplab_v3plus_tfkeras.data_utils import inference_large_img\n",
    "from deeplab_v3plus_tfkeras.data_utils import save_inference_results\n",
    "from deeplab_v3plus_tfkeras.input_data_processing import make_xy_path_list\n",
    "from deeplab_v3plus_tfkeras.label import Label"
   ]
  },
  {
   "cell_type": "markdown",
   "metadata": {},
   "source": [
    "some settings"
   ]
  },
  {
   "cell_type": "code",
   "execution_count": null,
   "metadata": {},
   "outputs": [],
   "source": [
    "which_to_inference = conf[\"which_to_inference\"]\n",
    "label = Label(label_file_path)\n",
    "n_gpus = len(use_devices.split(','))\n",
    "\n",
    "\n",
    "batch_size = batch_size * n_gpus\n",
    "\n",
    "model_file = os.path.join(model_dir, 'best_model.h5')"
   ]
  },
  {
   "cell_type": "markdown",
   "metadata": {},
   "source": [
    "load model"
   ]
  },
  {
   "cell_type": "code",
   "execution_count": null,
   "metadata": {},
   "outputs": [],
   "source": [
    "model_file = os.path.join(model_dir, 'best_model.h5')\n",
    "if n_gpus >= 2:\n",
    "    strategy = tf.distribute.MirroredStrategy()\n",
    "    with strategy.scope():\n",
    "        model = keras.models.load_model(model_file, compile=False)\n",
    "\n",
    "else:\n",
    "    model = keras.models.load_model(model_file, compile=False)\n",
    "\n",
    "model.summary()\n",
    "\n",
    "preprocess = keras.applications.xception.preprocess_input\n",
    "last_activation = model.layers[-1].name"
   ]
  },
  {
   "cell_type": "markdown",
   "metadata": {},
   "source": [
    "inference training dataset"
   ]
  },
  {
   "cell_type": "code",
   "execution_count": null,
   "metadata": {},
   "outputs": [],
   "source": [
    "if \"train\" in which_to_inference:\n",
    "    x_paths, y_paths = make_xy_path_list(train_x_dirs, train_y_dirs)\n",
    "    x, y = make_xy_from_data_paths(x_paths,\n",
    "                                   y_paths,\n",
    "                                   image_size,\n",
    "                                   label,\n",
    "                                   resize_or_crop=\"crop\")\n",
    "    pred = model.predict(preprocess(x), batch_size=batch_size)\n",
    "    fpath = os.path.join(model_dir, \"train_inference.h5\")\n",
    "    save_inference_results(fpath,\n",
    "                           x=x,\n",
    "                           y=y,\n",
    "                           pred=pred,\n",
    "                           last_activation=last_activation)"
   ]
  },
  {
   "cell_type": "markdown",
   "metadata": {},
   "source": [
    "inference validation dataset"
   ]
  },
  {
   "cell_type": "code",
   "execution_count": null,
   "metadata": {},
   "outputs": [],
   "source": [
    "if \"valid\" in which_to_inference:\n",
    "    x_paths, y_paths = make_xy_path_list(valid_x_dirs, valid_y_dirs)\n",
    "    x, y = make_xy_from_data_paths(x_paths,\n",
    "                                   y_paths,\n",
    "                                   image_size,\n",
    "                                   label,\n",
    "                                   resize_or_crop=\"crop\")\n",
    "    pred = model.predict(preprocess(x), batch_size=batch_size)\n",
    "    fpath = os.path.join(model_dir, \"valid_inference.h5\")\n",
    "    save_inference_results(fpath,\n",
    "                           x=x,\n",
    "                           y=y,\n",
    "                           pred=pred,\n",
    "                           last_activation=last_activation)"
   ]
  },
  {
   "cell_type": "markdown",
   "metadata": {},
   "source": [
    "inference test dataset."
   ]
  },
  {
   "cell_type": "code",
   "execution_count": null,
   "metadata": {},
   "outputs": [],
   "source": [
    "if \"test\" in which_to_inference:\n",
    "    for i, test_data_dir in enumerate(test_x_dirs):\n",
    "        test_name = test_data_dir.split(os.sep)[-1]\n",
    "        x_paths, _ = make_xy_path_list([test_data_dir], None)\n",
    "\n",
    "        mode = \"max_confidence\"\n",
    "        x = []\n",
    "        pred = []\n",
    "        for x_path in tqdm(x_paths):\n",
    "            x0, pred0 = inference_large_img(\n",
    "                x_path,\n",
    "                model,\n",
    "                preprocess,\n",
    "                mode=mode,\n",
    "                threshold=0.5,\n",
    "                batch_size=batch_size)\n",
    "            x.append(x0)\n",
    "            pred.append(pred0)\n",
    "\n",
    "        x = np.array(x)\n",
    "        pred = np.array(pred)\n",
    "\n",
    "        fpath = os.path.join(model_dir, \"test_\" + test_name + \"_inference.h5\")\n",
    "        save_inference_results(fpath,\n",
    "                               x=x,\n",
    "                               pred=pred,\n",
    "                               last_activation=last_activation)\n"
   ]
  },
  {
   "cell_type": "code",
   "execution_count": null,
   "metadata": {},
   "outputs": [],
   "source": []
  }
 ],
 "metadata": {
  "@webio": {
   "lastCommId": null,
   "lastKernelId": null
  },
  "kernelspec": {
   "display_name": "Python 3",
   "language": "python",
   "name": "python3"
  },
  "language_info": {
   "codemirror_mode": {
    "name": "ipython",
    "version": 3
   },
   "file_extension": ".py",
   "mimetype": "text/x-python",
   "name": "python",
   "nbconvert_exporter": "python",
   "pygments_lexer": "ipython3",
   "version": "3.7.7"
  }
 },
 "nbformat": 4,
 "nbformat_minor": 4
}

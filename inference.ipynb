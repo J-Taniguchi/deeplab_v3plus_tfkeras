{
 "cells": [
  {
   "cell_type": "code",
   "execution_count": null,
   "metadata": {},
   "outputs": [],
   "source": [
    "#import numpy as np\n",
    "import tensorflow as tf\n",
    "import tensorflow.keras as keras\n",
    "import numpy as np\n",
    "import os\n",
    "import sys\n",
    "import matplotlib.pyplot as plt\n",
    "import glob"
   ]
  },
  {
   "cell_type": "code",
   "execution_count": null,
   "metadata": {},
   "outputs": [],
   "source": [
    "deeplabv3plus_dir=\"./src\"\n",
    "sys.path.append(deeplabv3plus_dir)"
   ]
  },
  {
   "cell_type": "code",
   "execution_count": null,
   "metadata": {},
   "outputs": [],
   "source": [
    "gpu_options = tf.compat.v1.GPUOptions(visible_device_list=\"3\", allow_growth=True)\n",
    "config = tf.compat.v1.ConfigProto(gpu_options = gpu_options)\n",
    "tf.compat.v1.enable_eager_execution(config=config)"
   ]
  },
  {
   "cell_type": "code",
   "execution_count": null,
   "metadata": {},
   "outputs": [],
   "source": [
    "#from model import deeplab_v3plus\n",
    "from data_utils import make_x_from_data_paths,make_y_from_data_paths,convert_y_to_image_array\n",
    "from data_gen import DataGenerator\n",
    "from label import Label"
   ]
  },
  {
   "cell_type": "code",
   "execution_count": null,
   "metadata": {},
   "outputs": [],
   "source": [
    "from metrics import IoU\n",
    "from tensorflow.keras.utils import get_custom_objects\n",
    "get_custom_objects()[\"IoU\"] = IoU"
   ]
  },
  {
   "cell_type": "code",
   "execution_count": null,
   "metadata": {},
   "outputs": [],
   "source": [
    "import importlib\n",
    "importlib.reload(sys.modules['data_utils'])"
   ]
  },
  {
   "cell_type": "code",
   "execution_count": null,
   "metadata": {},
   "outputs": [],
   "source": [
    "model = keras.models.load_model(\"./polygon_test/000497.h5\")"
   ]
  },
  {
   "cell_type": "code",
   "execution_count": null,
   "metadata": {},
   "outputs": [],
   "source": [
    "preprocess = keras.applications.xception.preprocess_input"
   ]
  },
  {
   "cell_type": "code",
   "execution_count": null,
   "metadata": {},
   "outputs": [],
   "source": [
    "#model.summary()"
   ]
  },
  {
   "cell_type": "code",
   "execution_count": null,
   "metadata": {},
   "outputs": [],
   "source": [
    "traindata_dir = '../kaigan_block/dataset/poly/train'\n",
    "testdata_dir = '../kaigan_block/dataset/x_test2'\n",
    "\n",
    "train_x_paths = glob.glob(os.path.join(traindata_dir,'*.jpg'))\n",
    "train_x_paths.sort()\n",
    "image_names = [os.path.basename(train_x_paths[i]).split('.')[0] for i in range(len(train_x_paths))]\n",
    "train_y_paths=[]\n",
    "for i, image_name in enumerate(image_names):\n",
    "    p = os.path.join(traindata_dir, image_name+'.json')\n",
    "    if os.path.exists(p):\n",
    "        train_y_paths.append(p)\n",
    "    else:\n",
    "        train_y_paths.append(None)"
   ]
  },
  {
   "cell_type": "code",
   "execution_count": null,
   "metadata": {},
   "outputs": [],
   "source": [
    "label_file_path = os.path.join(traindata_dir, 'label_list.csv')\n",
    "label = Label(label_file_path)\n",
    "image_size = (512,512)"
   ]
  },
  {
   "cell_type": "code",
   "execution_count": null,
   "metadata": {},
   "outputs": [],
   "source": [
    "'''\n",
    "label_pd = pd.read_csv(\"pascal_voc_label.csv\", header=None)\n",
    "label_np = np.array(label_pd.iloc[:,1:])\n",
    "n_categories = label_pd.shape[0]\n",
    "image_size = (512,512)\n",
    "'''"
   ]
  },
  {
   "cell_type": "code",
   "execution_count": null,
   "metadata": {},
   "outputs": [],
   "source": [
    "'''\n",
    "seg_img_dir = \"../pascal_voc_2012_datasets/VOCdevkit/VOC2012/SegmentationClass\"\n",
    "img_dir = \"../pascal_voc_2012_datasets/VOCdevkit/VOC2012/JPEGImages\"\n",
    "train_set_path = \"../pascal_voc_2012_datasets/VOCdevkit/VOC2012/ImageSets/Segmentation/train.txt\"\n",
    "valid_set_path = \"../pascal_voc_2012_datasets/VOCdevkit/VOC2012/ImageSets/Segmentation/val.txt\"\n",
    "\n",
    "with open(train_set_path) as f:\n",
    "    train_img_names = f.read().split(\"\\n\")[:-1]\n",
    "with open(valid_set_path) as f:\n",
    "    valid_img_names = f.read().split(\"\\n\")[:-1]\n",
    "\n",
    "img_paths = [os.path.join(img_dir,train_img_names[i]) + \".jpg\" for i in range(len(train_img_names))]\n",
    "seg_img_paths = [os.path.join(seg_img_dir,train_img_names[i]) + \".png\" for i in range(len(train_img_names))]\n",
    "\n",
    "valid_x_paths = [os.path.join(img_dir,valid_img_names[i]) + \".jpg\" for i in range(len(valid_img_names))]\n",
    "valid_y_paths = [os.path.join(seg_img_dir,valid_img_names[i]) + \".png\" for i in range(len(valid_img_names))]\n",
    "#valid_x_paths = [os.path.join(img_dir,train_img_names[i]) + \".jpg\" for i in range(len(train_img_names))][0:10]\n",
    "#valid_y_paths = [os.path.join(seg_img_dir,train_img_names[i]) + \".png\" for i in range(len(train_img_names))][0:10]\n",
    "'''"
   ]
  },
  {
   "cell_type": "code",
   "execution_count": null,
   "metadata": {},
   "outputs": [],
   "source": [
    "valid_x = make_x_from_data_paths(train_x_paths, image_size)\n",
    "valid_y = make_y_from_data_paths(train_y_paths, image_size, label, data_type=\"polygon\")"
   ]
  },
  {
   "cell_type": "code",
   "execution_count": null,
   "metadata": {},
   "outputs": [],
   "source": [
    "#valid_x = make_x_from_image_paths(img_paths[0:50], image_size)\n",
    "#valid_y = make_y_from_image_paths(seg_img_paths[0:50], image_size, n_categories)"
   ]
  },
  {
   "cell_type": "code",
   "execution_count": null,
   "metadata": {},
   "outputs": [],
   "source": [
    "pred = model.predict(preprocess(valid_x))"
   ]
  },
  {
   "cell_type": "code",
   "execution_count": null,
   "metadata": {},
   "outputs": [],
   "source": [
    "y_pred = convert_y_to_image_array(pred, image_size, label)\n",
    "y_true = convert_y_to_image_array(valid_y, image_size, label)"
   ]
  },
  {
   "cell_type": "code",
   "execution_count": null,
   "metadata": {},
   "outputs": [],
   "source": [
    "i=0\n",
    "plt.figure(figsize=(30,20))\n",
    "plt.subplot(2,3,1)\n",
    "plt.imshow(y_pred[i])\n",
    "plt.grid()\n",
    "plt.subplot(2,3,2)\n",
    "plt.imshow(y_true[i])\n",
    "plt.grid()\n",
    "plt.subplot(2,3,3)\n",
    "plt.imshow(valid_x[i,:,:,:])\n",
    "plt.grid()\n",
    "\n",
    "y_mask = y_pred[i].copy()\n",
    "black_pix=(y_mask == np.array([0,0,0])).all(axis=2)\n",
    "y_mask[black_pix,:] = [1.0,1.0,1.0]\n",
    "plt.subplot(2,3,4)\n",
    "plt.imshow(y_mask*valid_x[i,:,:,:]/255)\n",
    "plt.grid()\n",
    "y_mask = y_true[i].copy()\n",
    "black_pix=(y_mask == np.array([0,0,0])).all(axis=2)\n",
    "y_mask[black_pix,:] = [1.0,1.0,1.0]\n",
    "plt.subplot(2,3,5)\n",
    "plt.imshow(y_mask*(valid_x[i,:,:,:]/255))\n",
    "plt.grid()\n"
   ]
  },
  {
   "cell_type": "code",
   "execution_count": null,
   "metadata": {},
   "outputs": [],
   "source": []
  },
  {
   "cell_type": "code",
   "execution_count": null,
   "metadata": {},
   "outputs": [],
   "source": []
  }
 ],
 "metadata": {
  "kernelspec": {
   "display_name": "Python 3",
   "language": "python",
   "name": "python3"
  },
  "language_info": {
   "codemirror_mode": {
    "name": "ipython",
    "version": 3
   },
   "file_extension": ".py",
   "mimetype": "text/x-python",
   "name": "python",
   "nbconvert_exporter": "python",
   "pygments_lexer": "ipython3",
   "version": "3.6.9"
  }
 },
 "nbformat": 4,
 "nbformat_minor": 4
}

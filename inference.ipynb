{
 "cells": [
  {
   "cell_type": "code",
   "execution_count": 1,
   "metadata": {},
   "outputs": [],
   "source": [
    "#import numpy as np\n",
    "import tensorflow as tf\n",
    "import tensorflow.keras as keras\n",
    "import numpy as np\n",
    "import os\n",
    "import sys\n",
    "import matplotlib.pyplot as plt\n",
    "import glob\n",
    "import matplotlib"
   ]
  },
  {
   "cell_type": "code",
   "execution_count": 2,
   "metadata": {},
   "outputs": [],
   "source": [
    "deeplabv3plus_dir=\"./src\"\n",
    "sys.path.append(deeplabv3plus_dir)"
   ]
  },
  {
   "cell_type": "code",
   "execution_count": 3,
   "metadata": {},
   "outputs": [],
   "source": [
    "gpu_options = tf.compat.v1.GPUOptions(visible_device_list=\"1\", allow_growth=True)\n",
    "config = tf.compat.v1.ConfigProto(gpu_options = gpu_options)\n",
    "tf.compat.v1.enable_eager_execution(config=config)"
   ]
  },
  {
   "cell_type": "code",
   "execution_count": 4,
   "metadata": {},
   "outputs": [],
   "source": [
    "#from model import deeplab_v3plus\n",
    "from data_utils import make_xy_from_data_paths, convert_y_to_image_array\n",
    "from data_gen import DataGenerator\n",
    "from label import Label"
   ]
  },
  {
   "cell_type": "code",
   "execution_count": 5,
   "metadata": {},
   "outputs": [],
   "source": [
    "from metrics import IoU\n",
    "from tensorflow.keras.utils import get_custom_objects\n",
    "get_custom_objects()[\"IoU\"] = IoU"
   ]
  },
  {
   "cell_type": "code",
   "execution_count": 6,
   "metadata": {},
   "outputs": [],
   "source": [
    "#import importlib\n",
    "#importlib.reload(sys.modules['data_utils'])"
   ]
  },
  {
   "cell_type": "code",
   "execution_count": 7,
   "metadata": {},
   "outputs": [
    {
     "name": "stderr",
     "output_type": "stream",
     "text": [
      "WARNING: Logging before flag parsing goes to stderr.\n",
      "W1224 15:51:48.462549 140735459642576 deprecation.py:323] From /home/taniguchi-j/anaconda3/envs/ppc/lib/python3.6/site-packages/tensorflow_core/python/ops/math_grad.py:1424: where (from tensorflow.python.ops.array_ops) is deprecated and will be removed in a future version.\n",
      "Instructions for updating:\n",
      "Use tf.where in 2.0, which has the same broadcast rule as np.where\n"
     ]
    }
   ],
   "source": [
    "model_dir = \"../rot_rgb\"\n",
    "out_dir = os.path.join(model_dir,\"figure\")\n",
    "model = keras.models.load_model(os.path.join(model_dir,'best_model.h5'))"
   ]
  },
  {
   "cell_type": "code",
   "execution_count": 8,
   "metadata": {},
   "outputs": [],
   "source": [
    "preprocess = keras.applications.xception.preprocess_input"
   ]
  },
  {
   "cell_type": "code",
   "execution_count": 9,
   "metadata": {},
   "outputs": [],
   "source": [
    "#model.summary()"
   ]
  },
  {
   "cell_type": "code",
   "execution_count": 10,
   "metadata": {},
   "outputs": [],
   "source": [
    "traindata_dir = '../train_data'\n",
    "#testdata_dir = '../kaigan_block/dataset/x_test2'\n",
    "\n",
    "train_x_paths = glob.glob(os.path.join(traindata_dir,'*.jpg'))\n",
    "train_x_paths.sort()\n",
    "image_names = [os.path.basename(train_x_paths[i]).split('.')[0] for i in range(len(train_x_paths))]\n",
    "train_y_paths=[]\n",
    "for i, image_name in enumerate(image_names):\n",
    "    p = os.path.join(traindata_dir, image_name+'.json')\n",
    "    if os.path.exists(p):\n",
    "        train_y_paths.append(p)\n",
    "    else:\n",
    "        train_y_paths.append(None)"
   ]
  },
  {
   "cell_type": "code",
   "execution_count": 11,
   "metadata": {},
   "outputs": [],
   "source": [
    "label_file_path = os.path.join(traindata_dir, 'label_list.csv')\n",
    "label = Label(label_file_path)\n",
    "image_size = (512,512)"
   ]
  },
  {
   "cell_type": "markdown",
   "metadata": {},
   "source": [
    "# inference for trained_data"
   ]
  },
  {
   "cell_type": "code",
   "execution_count": 12,
   "metadata": {},
   "outputs": [],
   "source": [
    "valid_x, valid_y = make_xy_from_data_paths(train_x_paths,\n",
    "                                           train_y_paths,\n",
    "                                           image_size,\n",
    "                                           label,\n",
    "                                           \"polygon\",\n",
    "                                           resize_or_crop=\"crop\")"
   ]
  },
  {
   "cell_type": "code",
   "execution_count": 13,
   "metadata": {},
   "outputs": [],
   "source": [
    "#valid_x = make_x_from_image_paths(img_paths[0:50], image_size)\n",
    "#valid_y = make_y_from_image_paths(seg_img_paths[0:50], image_size, n_categories)"
   ]
  },
  {
   "cell_type": "code",
   "execution_count": 14,
   "metadata": {},
   "outputs": [],
   "source": [
    "pred = model.predict(preprocess(valid_x))"
   ]
  },
  {
   "cell_type": "code",
   "execution_count": 15,
   "metadata": {},
   "outputs": [],
   "source": [
    "y_pred = convert_y_to_image_array(pred, label, threshold=0.5)\n",
    "y_true = convert_y_to_image_array(valid_y, label)"
   ]
  },
  {
   "cell_type": "code",
   "execution_count": 16,
   "metadata": {},
   "outputs": [],
   "source": [
    "\n",
    "out_dir_train = os.path.join(out_dir, \"train\")\n",
    "os.makedirs(out_dir_train,exist_ok = True)\n",
    "matplotlib.use('Agg')\n",
    "for i in range(len(y_pred)):\n",
    "    plt.figure(figsize=(20,30))\n",
    "    plt.subplot(3,2,1)\n",
    "    plt.imshow(y_pred[i])\n",
    "    plt.title(\"pred\", fontsize=20)\n",
    "    plt.grid()\n",
    "    plt.subplot(3,2,2)\n",
    "    plt.title(\"true\", fontsize=20)\n",
    "    plt.imshow(y_true[i])\n",
    "    plt.grid()\n",
    "    plt.subplot(3,2,3)\n",
    "    plt.imshow(valid_x[i,:,:,:])\n",
    "    plt.grid()\n",
    "    plt.subplot(3,2,4)\n",
    "    plt.imshow(valid_x[i,:,:,:])\n",
    "    plt.grid()\n",
    "\n",
    "    y_mask = y_pred[i].copy()/255\n",
    "    black_pix=(y_mask == np.array([0,0,0])).all(axis=2)\n",
    "    y_mask[black_pix,:] = [1.0,1.0,1.0]\n",
    "    plt.subplot(3,2,5)\n",
    "    plt.imshow(y_mask*valid_x[i,:,:,:]/255)\n",
    "    plt.grid()\n",
    "    y_mask = y_true[i].copy()/255\n",
    "    black_pix=(y_mask == np.array([0,0,0])).all(axis=2)\n",
    "    y_mask[black_pix,:] = [1.0,1.0,1.0]\n",
    "    plt.subplot(3,2,6)\n",
    "    plt.imshow(y_mask*(valid_x[i,:,:,:]/255))\n",
    "    plt.grid()\n",
    "\n",
    "    plt.savefig(os.path.join(out_dir_train,str(i).zfill(6) + \".jpg\"))\n",
    "    plt.close()"
   ]
  },
  {
   "cell_type": "markdown",
   "metadata": {},
   "source": [
    "# inference for validation data"
   ]
  },
  {
   "cell_type": "code",
   "execution_count": 17,
   "metadata": {},
   "outputs": [
    {
     "data": {
      "text/plain": [
       "16"
      ]
     },
     "execution_count": 17,
     "metadata": {},
     "output_type": "execute_result"
    }
   ],
   "source": [
    "valid_data_dir = '../valid_data/select'\n",
    "#testdata_dir = '../kaigan_block/dataset/x_test2'\n",
    "\n",
    "valid_x_paths = glob.glob(os.path.join(valid_data_dir,'*.jpg'))\n",
    "valid_x_paths.sort()\n",
    "len(valid_x_paths)"
   ]
  },
  {
   "cell_type": "code",
   "execution_count": 18,
   "metadata": {},
   "outputs": [],
   "source": [
    "tar = range(len(valid_x_paths))"
   ]
  },
  {
   "cell_type": "code",
   "execution_count": 19,
   "metadata": {},
   "outputs": [],
   "source": [
    "from data_utils import inference_large_img\n",
    "from PIL import Image\n",
    "from tqdm import tqdm"
   ]
  },
  {
   "cell_type": "code",
   "execution_count": 20,
   "metadata": {
    "scrolled": true
   },
   "outputs": [
    {
     "name": "stderr",
     "output_type": "stream",
     "text": [
      "  0%|          | 0/16 [00:00<?, ?it/s]"
     ]
    },
    {
     "name": "stdout",
     "output_type": "stream",
     "text": [
      "predicting\n",
      "converting y to PIL image\n",
      "merging image\n"
     ]
    },
    {
     "name": "stderr",
     "output_type": "stream",
     "text": [
      "  6%|▋         | 1/16 [00:27<06:51, 27.44s/it]"
     ]
    },
    {
     "name": "stdout",
     "output_type": "stream",
     "text": [
      "predicting\n",
      "converting y to PIL image\n",
      "merging image\n"
     ]
    },
    {
     "name": "stderr",
     "output_type": "stream",
     "text": [
      " 12%|█▎        | 2/16 [00:53<06:17, 26.95s/it]"
     ]
    },
    {
     "name": "stdout",
     "output_type": "stream",
     "text": [
      "predicting\n",
      "converting y to PIL image\n",
      "merging image\n"
     ]
    },
    {
     "name": "stderr",
     "output_type": "stream",
     "text": [
      " 19%|█▉        | 3/16 [01:19<05:46, 26.65s/it]"
     ]
    },
    {
     "name": "stdout",
     "output_type": "stream",
     "text": [
      "predicting\n",
      "converting y to PIL image\n",
      "merging image\n"
     ]
    },
    {
     "name": "stderr",
     "output_type": "stream",
     "text": [
      " 25%|██▌       | 4/16 [01:45<05:17, 26.43s/it]"
     ]
    },
    {
     "name": "stdout",
     "output_type": "stream",
     "text": [
      "predicting\n",
      "converting y to PIL image\n",
      "merging image\n"
     ]
    },
    {
     "name": "stderr",
     "output_type": "stream",
     "text": [
      " 31%|███▏      | 5/16 [02:11<04:48, 26.27s/it]"
     ]
    },
    {
     "name": "stdout",
     "output_type": "stream",
     "text": [
      "predicting\n",
      "converting y to PIL image\n",
      "merging image\n"
     ]
    },
    {
     "name": "stderr",
     "output_type": "stream",
     "text": [
      " 38%|███▊      | 6/16 [02:36<04:20, 26.09s/it]"
     ]
    },
    {
     "name": "stdout",
     "output_type": "stream",
     "text": [
      "predicting\n",
      "converting y to PIL image\n",
      "merging image\n"
     ]
    },
    {
     "name": "stderr",
     "output_type": "stream",
     "text": [
      " 44%|████▍     | 7/16 [03:02<03:54, 26.00s/it]"
     ]
    },
    {
     "name": "stdout",
     "output_type": "stream",
     "text": [
      "predicting\n",
      "converting y to PIL image\n",
      "merging image\n"
     ]
    },
    {
     "name": "stderr",
     "output_type": "stream",
     "text": [
      " 50%|█████     | 8/16 [03:28<03:27, 25.92s/it]"
     ]
    },
    {
     "name": "stdout",
     "output_type": "stream",
     "text": [
      "predicting\n",
      "converting y to PIL image\n",
      "merging image\n"
     ]
    },
    {
     "name": "stderr",
     "output_type": "stream",
     "text": [
      " 56%|█████▋    | 9/16 [03:53<03:00, 25.80s/it]"
     ]
    },
    {
     "name": "stdout",
     "output_type": "stream",
     "text": [
      "predicting\n",
      "converting y to PIL image\n",
      "merging image\n"
     ]
    },
    {
     "name": "stderr",
     "output_type": "stream",
     "text": [
      " 62%|██████▎   | 10/16 [04:19<02:34, 25.73s/it]"
     ]
    },
    {
     "name": "stdout",
     "output_type": "stream",
     "text": [
      "predicting\n",
      "converting y to PIL image\n",
      "merging image\n"
     ]
    },
    {
     "name": "stderr",
     "output_type": "stream",
     "text": [
      " 69%|██████▉   | 11/16 [04:44<02:08, 25.71s/it]"
     ]
    },
    {
     "name": "stdout",
     "output_type": "stream",
     "text": [
      "predicting\n",
      "converting y to PIL image\n",
      "merging image\n"
     ]
    },
    {
     "name": "stderr",
     "output_type": "stream",
     "text": [
      " 75%|███████▌  | 12/16 [05:10<01:42, 25.72s/it]"
     ]
    },
    {
     "name": "stdout",
     "output_type": "stream",
     "text": [
      "predicting\n",
      "converting y to PIL image\n",
      "merging image\n"
     ]
    },
    {
     "name": "stderr",
     "output_type": "stream",
     "text": [
      " 81%|████████▏ | 13/16 [05:36<01:17, 25.74s/it]"
     ]
    },
    {
     "name": "stdout",
     "output_type": "stream",
     "text": [
      "predicting\n",
      "converting y to PIL image\n",
      "merging image\n"
     ]
    },
    {
     "name": "stderr",
     "output_type": "stream",
     "text": [
      " 88%|████████▊ | 14/16 [06:01<00:51, 25.65s/it]"
     ]
    },
    {
     "name": "stdout",
     "output_type": "stream",
     "text": [
      "predicting\n",
      "converting y to PIL image\n",
      "merging image\n"
     ]
    },
    {
     "name": "stderr",
     "output_type": "stream",
     "text": [
      " 94%|█████████▍| 15/16 [06:27<00:25, 25.68s/it]"
     ]
    },
    {
     "name": "stdout",
     "output_type": "stream",
     "text": [
      "predicting\n",
      "converting y to PIL image\n",
      "merging image\n"
     ]
    },
    {
     "name": "stderr",
     "output_type": "stream",
     "text": [
      "100%|██████████| 16/16 [06:53<00:00, 25.68s/it]\n"
     ]
    }
   ],
   "source": [
    "mode = \"simple_crop\"\n",
    "out_dir_valid = os.path.join(out_dir, \"valid\", mode)\n",
    "os.makedirs(out_dir_valid, exist_ok=True)\n",
    "matplotlib.use('Agg')\n",
    "for i in tqdm(tar):\n",
    "    x_img, seg_img = inference_large_img(valid_x_paths[i],\n",
    "                                         model,\n",
    "                                         preprocess,\n",
    "                                         label,\n",
    "                                         mode=mode,\n",
    "                                         threshold=0.5)\n",
    "\n",
    "    figsize = np.array(x_img.shape[0:2][::-1])/100\n",
    "\n",
    "    plt.figure(figsize=figsize)\n",
    "    plt.imshow(seg_img)\n",
    "    #plt.grid()\n",
    "    plt.axis('off')\n",
    "    plt.savefig(os.path.join(out_dir_valid, str(i).zfill(6) + \"_seg.jpg\"), bbox_inches='tight')\n",
    "    plt.close()\n",
    "\n",
    "    plt.figure(figsize=figsize)\n",
    "    plt.imshow(x_img)\n",
    "    #plt.grid()\n",
    "    plt.axis('off')\n",
    "    plt.savefig(os.path.join(out_dir_valid, str(i).zfill(6) + \"_x.jpg\"), bbox_inches='tight')\n",
    "    plt.close()\n",
    "\n",
    "    plt.figure(figsize=figsize)\n",
    "    y_mask = seg_img.copy()/255\n",
    "    black_pix=(y_mask == np.array([0,0,0])).all(axis=2)\n",
    "    y_mask[black_pix,:] = [1.0,1.0,1.0]\n",
    "    plt.imshow(y_mask*x_img/255)\n",
    "    #plt.grid()\n",
    "    plt.axis('off')\n",
    "    plt.savefig(os.path.join(out_dir_valid, str(i).zfill(6) + \"_x_seg.jpg\"), bbox_inches='tight')\n",
    "    plt.close()"
   ]
  },
  {
   "cell_type": "code",
   "execution_count": 21,
   "metadata": {
    "scrolled": true
   },
   "outputs": [
    {
     "name": "stderr",
     "output_type": "stream",
     "text": [
      "  0%|          | 0/16 [00:00<?, ?it/s]"
     ]
    },
    {
     "name": "stdout",
     "output_type": "stream",
     "text": [
      "predicting\n",
      "converting y to PIL image\n",
      "merging image\n"
     ]
    },
    {
     "name": "stderr",
     "output_type": "stream",
     "text": [
      "  6%|▋         | 1/16 [00:40<10:14, 40.96s/it]"
     ]
    },
    {
     "name": "stdout",
     "output_type": "stream",
     "text": [
      "predicting\n",
      "converting y to PIL image\n",
      "merging image\n"
     ]
    },
    {
     "name": "stderr",
     "output_type": "stream",
     "text": [
      " 12%|█▎        | 2/16 [01:20<09:28, 40.60s/it]"
     ]
    },
    {
     "name": "stdout",
     "output_type": "stream",
     "text": [
      "predicting\n",
      "converting y to PIL image\n",
      "merging image\n"
     ]
    },
    {
     "name": "stderr",
     "output_type": "stream",
     "text": [
      " 19%|█▉        | 3/16 [02:00<08:44, 40.34s/it]"
     ]
    },
    {
     "name": "stdout",
     "output_type": "stream",
     "text": [
      "predicting\n",
      "converting y to PIL image\n",
      "merging image\n"
     ]
    },
    {
     "name": "stderr",
     "output_type": "stream",
     "text": [
      " 25%|██▌       | 4/16 [02:40<08:01, 40.11s/it]"
     ]
    },
    {
     "name": "stdout",
     "output_type": "stream",
     "text": [
      "predicting\n",
      "converting y to PIL image\n",
      "merging image\n"
     ]
    },
    {
     "name": "stderr",
     "output_type": "stream",
     "text": [
      " 31%|███▏      | 5/16 [03:19<07:19, 39.97s/it]"
     ]
    },
    {
     "name": "stdout",
     "output_type": "stream",
     "text": [
      "predicting\n",
      "converting y to PIL image\n",
      "merging image\n"
     ]
    },
    {
     "name": "stderr",
     "output_type": "stream",
     "text": [
      " 38%|███▊      | 6/16 [03:59<06:38, 39.80s/it]"
     ]
    },
    {
     "name": "stdout",
     "output_type": "stream",
     "text": [
      "predicting\n",
      "converting y to PIL image\n",
      "merging image\n"
     ]
    },
    {
     "name": "stderr",
     "output_type": "stream",
     "text": [
      " 44%|████▍     | 7/16 [04:38<05:58, 39.79s/it]"
     ]
    },
    {
     "name": "stdout",
     "output_type": "stream",
     "text": [
      "predicting\n",
      "converting y to PIL image\n",
      "merging image\n"
     ]
    },
    {
     "name": "stderr",
     "output_type": "stream",
     "text": [
      " 50%|█████     | 8/16 [05:18<05:18, 39.76s/it]"
     ]
    },
    {
     "name": "stdout",
     "output_type": "stream",
     "text": [
      "predicting\n",
      "converting y to PIL image\n",
      "merging image\n"
     ]
    },
    {
     "name": "stderr",
     "output_type": "stream",
     "text": [
      " 56%|█████▋    | 9/16 [05:57<04:37, 39.66s/it]"
     ]
    },
    {
     "name": "stdout",
     "output_type": "stream",
     "text": [
      "predicting\n",
      "converting y to PIL image\n",
      "merging image\n"
     ]
    },
    {
     "name": "stderr",
     "output_type": "stream",
     "text": [
      " 62%|██████▎   | 10/16 [06:37<03:57, 39.50s/it]"
     ]
    },
    {
     "name": "stdout",
     "output_type": "stream",
     "text": [
      "predicting\n",
      "converting y to PIL image\n",
      "merging image\n"
     ]
    },
    {
     "name": "stderr",
     "output_type": "stream",
     "text": [
      " 69%|██████▉   | 11/16 [07:16<03:17, 39.44s/it]"
     ]
    },
    {
     "name": "stdout",
     "output_type": "stream",
     "text": [
      "predicting\n",
      "converting y to PIL image\n",
      "merging image\n"
     ]
    },
    {
     "name": "stderr",
     "output_type": "stream",
     "text": [
      " 75%|███████▌  | 12/16 [07:56<02:38, 39.54s/it]"
     ]
    },
    {
     "name": "stdout",
     "output_type": "stream",
     "text": [
      "predicting\n",
      "converting y to PIL image\n",
      "merging image\n"
     ]
    },
    {
     "name": "stderr",
     "output_type": "stream",
     "text": [
      " 81%|████████▏ | 13/16 [08:36<01:58, 39.64s/it]"
     ]
    },
    {
     "name": "stdout",
     "output_type": "stream",
     "text": [
      "predicting\n",
      "converting y to PIL image\n",
      "merging image\n"
     ]
    },
    {
     "name": "stderr",
     "output_type": "stream",
     "text": [
      " 88%|████████▊ | 14/16 [09:15<01:19, 39.54s/it]"
     ]
    },
    {
     "name": "stdout",
     "output_type": "stream",
     "text": [
      "predicting\n",
      "converting y to PIL image\n",
      "merging image\n"
     ]
    },
    {
     "name": "stderr",
     "output_type": "stream",
     "text": [
      " 94%|█████████▍| 15/16 [09:55<00:39, 39.65s/it]"
     ]
    },
    {
     "name": "stdout",
     "output_type": "stream",
     "text": [
      "predicting\n",
      "converting y to PIL image\n",
      "merging image\n"
     ]
    },
    {
     "name": "stderr",
     "output_type": "stream",
     "text": [
      "100%|██████████| 16/16 [10:35<00:00, 39.68s/it]\n"
     ]
    }
   ],
   "source": [
    "mode = \"center\"\n",
    "out_dir_valid = os.path.join(out_dir, \"valid\", mode)\n",
    "os.makedirs(out_dir_valid, exist_ok=True)\n",
    "matplotlib.use('Agg')\n",
    "for i in tqdm(tar):\n",
    "    x_img, seg_img = inference_large_img(valid_x_paths[i],\n",
    "                                         model,\n",
    "                                         preprocess,\n",
    "                                         label,\n",
    "                                         mode=mode,\n",
    "                                         threshold=0.5)\n",
    "\n",
    "    figsize = np.array(x_img.shape[0:2][::-1])/100\n",
    "\n",
    "    plt.figure(figsize=figsize)\n",
    "    plt.imshow(seg_img)\n",
    "    #plt.grid()\n",
    "    plt.axis('off')\n",
    "    plt.savefig(os.path.join(out_dir_valid, str(i).zfill(6) + \"_seg.jpg\"), bbox_inches='tight')\n",
    "    plt.close()\n",
    "\n",
    "    plt.figure(figsize=figsize)\n",
    "    plt.imshow(x_img)\n",
    "    #plt.grid()\n",
    "    plt.axis('off')\n",
    "    plt.savefig(os.path.join(out_dir_valid, str(i).zfill(6) + \"_x.jpg\"), bbox_inches='tight')\n",
    "    plt.close()\n",
    "\n",
    "    plt.figure(figsize=figsize)\n",
    "    y_mask = seg_img.copy()/255\n",
    "    black_pix=(y_mask == np.array([0,0,0])).all(axis=2)\n",
    "    y_mask[black_pix,:] = [1.0,1.0,1.0]\n",
    "    plt.imshow(y_mask*x_img/255)\n",
    "    #plt.grid()\n",
    "    plt.axis('off')\n",
    "    plt.savefig(os.path.join(out_dir_valid, str(i).zfill(6) + \"_x_seg.jpg\"), bbox_inches='tight')\n",
    "    plt.close()"
   ]
  },
  {
   "cell_type": "code",
   "execution_count": 22,
   "metadata": {
    "scrolled": true
   },
   "outputs": [
    {
     "name": "stderr",
     "output_type": "stream",
     "text": [
      "  0%|          | 0/16 [00:00<?, ?it/s]"
     ]
    },
    {
     "name": "stdout",
     "output_type": "stream",
     "text": [
      "predicting\n",
      "merging image\n",
      "converting y to PIL image\n"
     ]
    },
    {
     "name": "stderr",
     "output_type": "stream",
     "text": [
      "  6%|▋         | 1/16 [01:38<24:44, 98.97s/it]"
     ]
    },
    {
     "name": "stdout",
     "output_type": "stream",
     "text": [
      "predicting\n",
      "merging image\n",
      "converting y to PIL image\n"
     ]
    },
    {
     "name": "stderr",
     "output_type": "stream",
     "text": [
      " 12%|█▎        | 2/16 [03:18<23:08, 99.19s/it]"
     ]
    },
    {
     "name": "stdout",
     "output_type": "stream",
     "text": [
      "predicting\n",
      "merging image\n",
      "converting y to PIL image\n"
     ]
    },
    {
     "name": "stderr",
     "output_type": "stream",
     "text": [
      " 19%|█▉        | 3/16 [04:57<21:27, 99.06s/it]"
     ]
    },
    {
     "name": "stdout",
     "output_type": "stream",
     "text": [
      "predicting\n",
      "merging image\n",
      "converting y to PIL image\n"
     ]
    },
    {
     "name": "stderr",
     "output_type": "stream",
     "text": [
      " 25%|██▌       | 4/16 [06:37<19:51, 99.27s/it]"
     ]
    },
    {
     "name": "stdout",
     "output_type": "stream",
     "text": [
      "predicting\n",
      "merging image\n",
      "converting y to PIL image\n"
     ]
    },
    {
     "name": "stderr",
     "output_type": "stream",
     "text": [
      " 31%|███▏      | 5/16 [08:16<18:12, 99.28s/it]"
     ]
    },
    {
     "name": "stdout",
     "output_type": "stream",
     "text": [
      "predicting\n",
      "merging image\n",
      "converting y to PIL image\n"
     ]
    },
    {
     "name": "stderr",
     "output_type": "stream",
     "text": [
      " 38%|███▊      | 6/16 [09:55<16:32, 99.23s/it]"
     ]
    },
    {
     "name": "stdout",
     "output_type": "stream",
     "text": [
      "predicting\n",
      "merging image\n",
      "converting y to PIL image\n"
     ]
    },
    {
     "name": "stderr",
     "output_type": "stream",
     "text": [
      " 44%|████▍     | 7/16 [11:35<14:54, 99.44s/it]"
     ]
    },
    {
     "name": "stdout",
     "output_type": "stream",
     "text": [
      "predicting\n",
      "merging image\n",
      "converting y to PIL image\n"
     ]
    },
    {
     "name": "stderr",
     "output_type": "stream",
     "text": [
      " 50%|█████     | 8/16 [13:15<13:15, 99.49s/it]"
     ]
    },
    {
     "name": "stdout",
     "output_type": "stream",
     "text": [
      "predicting\n",
      "merging image\n",
      "converting y to PIL image\n"
     ]
    },
    {
     "name": "stderr",
     "output_type": "stream",
     "text": [
      " 56%|█████▋    | 9/16 [14:55<11:37, 99.68s/it]"
     ]
    },
    {
     "name": "stdout",
     "output_type": "stream",
     "text": [
      "predicting\n",
      "merging image\n",
      "converting y to PIL image\n"
     ]
    },
    {
     "name": "stderr",
     "output_type": "stream",
     "text": [
      " 62%|██████▎   | 10/16 [16:35<09:58, 99.78s/it]"
     ]
    },
    {
     "name": "stdout",
     "output_type": "stream",
     "text": [
      "predicting\n",
      "merging image\n",
      "converting y to PIL image\n"
     ]
    },
    {
     "name": "stderr",
     "output_type": "stream",
     "text": [
      " 69%|██████▉   | 11/16 [18:15<08:19, 99.88s/it]"
     ]
    },
    {
     "name": "stdout",
     "output_type": "stream",
     "text": [
      "predicting\n",
      "merging image\n",
      "converting y to PIL image\n"
     ]
    },
    {
     "name": "stderr",
     "output_type": "stream",
     "text": [
      " 75%|███████▌  | 12/16 [19:55<06:40, 100.05s/it]"
     ]
    },
    {
     "name": "stdout",
     "output_type": "stream",
     "text": [
      "predicting\n",
      "merging image\n",
      "converting y to PIL image\n"
     ]
    },
    {
     "name": "stderr",
     "output_type": "stream",
     "text": [
      " 81%|████████▏ | 13/16 [21:35<04:59, 99.99s/it] "
     ]
    },
    {
     "name": "stdout",
     "output_type": "stream",
     "text": [
      "predicting\n",
      "merging image\n",
      "converting y to PIL image\n"
     ]
    },
    {
     "name": "stderr",
     "output_type": "stream",
     "text": [
      " 88%|████████▊ | 14/16 [23:15<03:20, 100.06s/it]"
     ]
    },
    {
     "name": "stdout",
     "output_type": "stream",
     "text": [
      "predicting\n",
      "merging image\n",
      "converting y to PIL image\n"
     ]
    },
    {
     "name": "stderr",
     "output_type": "stream",
     "text": [
      " 94%|█████████▍| 15/16 [24:56<01:40, 100.31s/it]"
     ]
    },
    {
     "name": "stdout",
     "output_type": "stream",
     "text": [
      "predicting\n",
      "merging image\n",
      "converting y to PIL image\n"
     ]
    },
    {
     "name": "stderr",
     "output_type": "stream",
     "text": [
      "100%|██████████| 16/16 [26:37<00:00, 100.38s/it]\n"
     ]
    }
   ],
   "source": [
    "mode = \"max_confidence\"\n",
    "out_dir_valid = os.path.join(out_dir, \"valid\", mode)\n",
    "os.makedirs(out_dir_valid, exist_ok=True)\n",
    "matplotlib.use('Agg')\n",
    "for i in tqdm(tar):\n",
    "    x_img, seg_img = inference_large_img(valid_x_paths[i],\n",
    "                                         model,\n",
    "                                         preprocess,\n",
    "                                         label,\n",
    "                                         mode=mode,\n",
    "                                         threshold=0.5)\n",
    "\n",
    "    figsize = np.array(x_img.shape[0:2][::-1])/100\n",
    "\n",
    "    plt.figure(figsize=figsize)\n",
    "    plt.imshow(seg_img)\n",
    "    #plt.grid()\n",
    "    plt.axis('off')\n",
    "    plt.savefig(os.path.join(out_dir_valid, str(i).zfill(6) + \"_seg.jpg\"), bbox_inches='tight')\n",
    "    plt.close()\n",
    "\n",
    "    plt.figure(figsize=figsize)\n",
    "    plt.imshow(x_img)\n",
    "    #plt.grid()\n",
    "    plt.axis('off')\n",
    "    plt.savefig(os.path.join(out_dir_valid, str(i).zfill(6) + \"_x.jpg\"), bbox_inches='tight')\n",
    "    plt.close()\n",
    "\n",
    "    plt.figure(figsize=figsize)\n",
    "    y_mask = seg_img.copy()/255\n",
    "    black_pix=(y_mask == np.array([0,0,0])).all(axis=2)\n",
    "    y_mask[black_pix,:] = [1.0,1.0,1.0]\n",
    "    plt.imshow(y_mask*x_img/255)\n",
    "    #plt.grid()\n",
    "    plt.axis('off')\n",
    "    plt.savefig(os.path.join(out_dir_valid, str(i).zfill(6) + \"_x_seg.jpg\"), bbox_inches='tight')\n",
    "    plt.close()"
   ]
  },
  {
   "cell_type": "code",
   "execution_count": null,
   "metadata": {},
   "outputs": [],
   "source": []
  }
 ],
 "metadata": {
  "kernelspec": {
   "display_name": "Python 3",
   "language": "python",
   "name": "python3"
  },
  "language_info": {
   "codemirror_mode": {
    "name": "ipython",
    "version": 3
   },
   "file_extension": ".py",
   "mimetype": "text/x-python",
   "name": "python",
   "nbconvert_exporter": "python",
   "pygments_lexer": "ipython3",
   "version": "3.6.9"
  }
 },
 "nbformat": 4,
 "nbformat_minor": 4
}

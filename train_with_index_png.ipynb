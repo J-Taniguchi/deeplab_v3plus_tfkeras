{
 "cells": [
  {
   "cell_type": "code",
   "execution_count": 1,
   "metadata": {},
   "outputs": [],
   "source": [
    "import tensorflow as tf\n",
    "import tensorflow.keras as keras\n",
    "import numpy as np\n",
    "import os\n",
    "import sys\n",
    "import matplotlib.pyplot as plt"
   ]
  },
  {
   "cell_type": "code",
   "execution_count": 2,
   "metadata": {},
   "outputs": [],
   "source": [
    "deeplabv3plus_srcdir=\"./src\"\n",
    "sys.path.append(deeplabv3plus_srcdir)"
   ]
  },
  {
   "cell_type": "code",
   "execution_count": 4,
   "metadata": {},
   "outputs": [],
   "source": [
    "#from image_utils import make_pascal_voc_label_csv\n",
    "#make_pascal_voc_label_csv()"
   ]
  },
  {
   "cell_type": "code",
   "execution_count": 5,
   "metadata": {},
   "outputs": [],
   "source": [
    "gpu_options = tf.compat.v1.GPUOptions(visible_device_list=\"1\", allow_growth=True)\n",
    "config = tf.compat.v1.ConfigProto(gpu_options = gpu_options)\n",
    "tf.compat.v1.enable_eager_execution(config=config)"
   ]
  },
  {
   "cell_type": "code",
   "execution_count": 6,
   "metadata": {},
   "outputs": [],
   "source": [
    "from model import deeplab_v3plus_transfer_os16\n",
    "#from image_utils import make_x_from_image_paths,make_y_from_image_paths,convert_y_to_image_array\n",
    "from data_gen import DataGenerator\n",
    "from metrics import IoU\n",
    "from label import Label"
   ]
  },
  {
   "cell_type": "code",
   "execution_count": 7,
   "metadata": {},
   "outputs": [],
   "source": [
    "#import importlib\n",
    "#importlib.reload(sys.modules['image_utils'])"
   ]
  },
  {
   "cell_type": "code",
   "execution_count": 8,
   "metadata": {},
   "outputs": [],
   "source": [
    "out_dir = \"TEST\"\n",
    "os.makedirs(out_dir, exist_ok=True)"
   ]
  },
  {
   "cell_type": "code",
   "execution_count": 9,
   "metadata": {},
   "outputs": [],
   "source": [
    "seg_img_dir = \"../pascal_voc_2012_datasets/VOCdevkit/VOC2012/SegmentationClass\"\n",
    "img_dir = \"../pascal_voc_2012_datasets/VOCdevkit/VOC2012/JPEGImages\"\n",
    "train_set_path = \"../pascal_voc_2012_datasets/VOCdevkit/VOC2012/ImageSets/Segmentation/train.txt\"\n",
    "valid_set_path = \"../pascal_voc_2012_datasets/VOCdevkit/VOC2012/ImageSets/Segmentation/val.txt\"\n",
    "\n",
    "with open(train_set_path) as f:\n",
    "    train_img_names = f.read().split(\"\\n\")[:-1]\n",
    "with open(valid_set_path) as f:\n",
    "    valid_img_names = f.read().split(\"\\n\")[:-1]\n",
    "\n",
    "train_x_paths = np.array([os.path.join(img_dir,train_img_names[i]) + \".jpg\" for i in range(len(train_img_names))])\n",
    "train_y_paths = np.array([os.path.join(seg_img_dir,train_img_names[i]) + \".png\" for i in range(len(train_img_names))])\n",
    "\n",
    "valid_x_paths = np.array([os.path.join(img_dir,valid_img_names[i]) + \".jpg\" for i in range(len(valid_img_names))])\n",
    "valid_y_paths = np.array([os.path.join(seg_img_dir,valid_img_names[i]) + \".png\" for i in range(len(valid_img_names))])"
   ]
  },
  {
   "cell_type": "code",
   "execution_count": 10,
   "metadata": {},
   "outputs": [],
   "source": [
    "label_file_path = \"./pascal_voc_label.csv\"\n",
    "label = Label(label_file_path)\n",
    "image_size = (512,512)"
   ]
  },
  {
   "cell_type": "code",
   "execution_count": 11,
   "metadata": {},
   "outputs": [],
   "source": [
    "batch_size=16\n",
    "n_epochs=300"
   ]
  },
  {
   "cell_type": "code",
   "execution_count": 12,
   "metadata": {},
   "outputs": [
    {
     "name": "stderr",
     "output_type": "stream",
     "text": [
      "WARNING: Logging before flag parsing goes to stderr.\n",
      "W1205 14:20:39.908504 140736200002768 module_wrapper.py:139] From ./src/model.py:222: The name tf.image.resize_nearest_neighbor is deprecated. Please use tf.compat.v1.image.resize_nearest_neighbor instead.\n",
      "\n"
     ]
    },
    {
     "name": "stdout",
     "output_type": "stream",
     "text": [
      "in decoder, layer from encoder is resized from (?, 127, 127, 256) to (?, 128, 128, 256)\n"
     ]
    }
   ],
   "source": [
    "encoder = keras.applications.Xception(input_shape=(512,512,3), weights=\"imagenet\", include_top=False)\n",
    "preprocess = keras.applications.xception.preprocess_input\n",
    "layer_name_to_decoder = \"block3_sepconv2_bn\"\n",
    "encoder_end_layer_name = \"block13_sepconv2_bn\"\n",
    "model = deeplab_v3plus_transfer_os16(label.n_labels, encoder, layer_name_to_decoder, encoder_end_layer_name)"
   ]
  },
  {
   "cell_type": "code",
   "execution_count": 13,
   "metadata": {},
   "outputs": [],
   "source": [
    "train_data_gen = DataGenerator(train_x_paths, train_y_paths, image_size, label, batch_size, preprocess, augmentation=True, shuffle=True, data_type=\"index_png\")\n",
    "valid_data_gen = DataGenerator(valid_x_paths, valid_y_paths, image_size, label, batch_size, preprocess, augmentation=False, shuffle=False, data_type=\"index_png\")"
   ]
  },
  {
   "cell_type": "code",
   "execution_count": 14,
   "metadata": {},
   "outputs": [],
   "source": [
    "#model.summary(line_length=150)"
   ]
  },
  {
   "cell_type": "code",
   "execution_count": 15,
   "metadata": {},
   "outputs": [],
   "source": [
    "loss_function = tf.keras.losses.categorical_crossentropy\n",
    "opt = tf.keras.optimizers.Adam()\n",
    "model.compile(optimizer=opt, loss=loss_function, metrics=[IoU])"
   ]
  },
  {
   "cell_type": "code",
   "execution_count": 16,
   "metadata": {},
   "outputs": [],
   "source": [
    "filepath = os.path.join(out_dir,'{epoch:06d}.h5')\n",
    "cp_cb = keras.callbacks.ModelCheckpoint(filepath, \n",
    "                                        monitor='val_IoU', \n",
    "                                        verbose=1, \n",
    "                                        save_best_only=True, \n",
    "                                        save_weights_only=False, \n",
    "                                        mode='max')"
   ]
  },
  {
   "cell_type": "code",
   "execution_count": 17,
   "metadata": {},
   "outputs": [
    {
     "name": "stdout",
     "output_type": "stream",
     "text": [
      "Epoch 1/300\n"
     ]
    },
    {
     "name": "stderr",
     "output_type": "stream",
     "text": [
      "W1205 14:20:57.548191 140736200002768 deprecation.py:323] From /home/taniguchi-j/anaconda3/envs/ppc/lib/python3.6/site-packages/tensorflow_core/python/ops/math_grad.py:1394: where (from tensorflow.python.ops.array_ops) is deprecated and will be removed in a future version.\n",
      "Instructions for updating:\n",
      "Use tf.where in 2.0, which has the same broadcast rule as np.where\n"
     ]
    },
    {
     "name": "stdout",
     "output_type": "stream",
     "text": [
      "18/92 [====>.........................] - ETA: 2:44 - loss: 2.6508 - IoU: 0.0046"
     ]
    },
    {
     "name": "stderr",
     "output_type": "stream",
     "text": [
      "Process Keras_worker_ForkPoolWorker-3:\n",
      "Process Keras_worker_ForkPoolWorker-1:\n",
      "Process Keras_worker_ForkPoolWorker-6:\n",
      "Traceback (most recent call last):\n",
      "Traceback (most recent call last):\n",
      "  File \"/home/taniguchi-j/anaconda3/envs/ppc/lib/python3.6/multiprocessing/process.py\", line 258, in _bootstrap\n",
      "    self.run()\n",
      "  File \"/home/taniguchi-j/anaconda3/envs/ppc/lib/python3.6/multiprocessing/process.py\", line 93, in run\n",
      "    self._target(*self._args, **self._kwargs)\n",
      "  File \"/home/taniguchi-j/anaconda3/envs/ppc/lib/python3.6/multiprocessing/process.py\", line 258, in _bootstrap\n",
      "    self.run()\n",
      "  File \"/home/taniguchi-j/anaconda3/envs/ppc/lib/python3.6/multiprocessing/pool.py\", line 119, in worker\n",
      "    result = (True, func(*args, **kwds))\n",
      "  File \"/home/taniguchi-j/anaconda3/envs/ppc/lib/python3.6/multiprocessing/process.py\", line 93, in run\n",
      "    self._target(*self._args, **self._kwargs)\n",
      "  File \"/home/taniguchi-j/anaconda3/envs/ppc/lib/python3.6/site-packages/tensorflow_core/python/keras/utils/data_utils.py\", line 571, in get_index\n",
      "    return _SHARED_SEQUENCES[uid][i]\n",
      "  File \"/home/taniguchi-j/anaconda3/envs/ppc/lib/python3.6/multiprocessing/pool.py\", line 119, in worker\n",
      "    result = (True, func(*args, **kwds))\n",
      "  File \"./src/data_gen.py\", line 44, in __getitem__\n",
      "    y = make_y_from_data_paths(batch_y_paths, self.image_size, self.label, data_type=self.data_type)\n",
      "  File \"./src/data_utils.py\", line 26, in make_y_from_data_paths\n",
      "    y0 = convert_image_array_to_y(image, label)\n",
      "  File \"/home/taniguchi-j/anaconda3/envs/ppc/lib/python3.6/site-packages/tensorflow_core/python/keras/utils/data_utils.py\", line 571, in get_index\n",
      "    return _SHARED_SEQUENCES[uid][i]\n",
      "  File \"./src/data_utils.py\", line 78, in convert_image_array_to_y\n",
      "    y[:,:,i] = np.all(np.equal(image_array , label.color[i,:]), axis=2).astype(np.float32)\n",
      "  File \"./src/data_gen.py\", line 44, in __getitem__\n",
      "    y = make_y_from_data_paths(batch_y_paths, self.image_size, self.label, data_type=self.data_type)\n",
      "  File \"/home/taniguchi-j/anaconda3/envs/ppc/lib/python3.6/site-packages/numpy/core/fromnumeric.py\", line 2245, in all\n",
      "    return _wrapreduction(a, np.logical_and, 'all', axis, None, out, keepdims=keepdims)\n",
      "  File \"./src/data_utils.py\", line 26, in make_y_from_data_paths\n",
      "    y0 = convert_image_array_to_y(image, label)\n",
      "  File \"/home/taniguchi-j/anaconda3/envs/ppc/lib/python3.6/site-packages/numpy/core/fromnumeric.py\", line 86, in _wrapreduction\n",
      "    return ufunc.reduce(obj, axis, dtype, out, **passkwargs)\n",
      "  File \"./src/data_utils.py\", line 78, in convert_image_array_to_y\n",
      "    y[:,:,i] = np.all(np.equal(image_array , label.color[i,:]), axis=2).astype(np.float32)\n",
      "KeyboardInterrupt\n",
      "  File \"/home/taniguchi-j/anaconda3/envs/ppc/lib/python3.6/site-packages/numpy/core/fromnumeric.py\", line 2245, in all\n",
      "    return _wrapreduction(a, np.logical_and, 'all', axis, None, out, keepdims=keepdims)\n",
      "  File \"/home/taniguchi-j/anaconda3/envs/ppc/lib/python3.6/site-packages/numpy/core/fromnumeric.py\", line 86, in _wrapreduction\n",
      "    return ufunc.reduce(obj, axis, dtype, out, **passkwargs)\n",
      "KeyboardInterrupt\n",
      "Traceback (most recent call last):\n",
      "  File \"/home/taniguchi-j/anaconda3/envs/ppc/lib/python3.6/multiprocessing/process.py\", line 258, in _bootstrap\n",
      "    self.run()\n",
      "  File \"/home/taniguchi-j/anaconda3/envs/ppc/lib/python3.6/multiprocessing/process.py\", line 93, in run\n",
      "    self._target(*self._args, **self._kwargs)\n",
      "  File \"/home/taniguchi-j/anaconda3/envs/ppc/lib/python3.6/multiprocessing/pool.py\", line 119, in worker\n",
      "    result = (True, func(*args, **kwds))\n",
      "  File \"/home/taniguchi-j/anaconda3/envs/ppc/lib/python3.6/site-packages/tensorflow_core/python/keras/utils/data_utils.py\", line 571, in get_index\n",
      "    return _SHARED_SEQUENCES[uid][i]\n",
      "  File \"./src/data_gen.py\", line 47, in __getitem__\n",
      "    x,y = data_augment(x,y,image_size=self.image_size, p=0.95)\n",
      "  File \"./src/data_augment.py\", line 42, in data_augment\n",
      "    auged = aug(image=images[i,:,:,:],mask=masks[i,:,:,:])\n",
      "  File \"/home/taniguchi-j/anaconda3/envs/ppc/lib/python3.6/site-packages/albumentations/core/composition.py\", line 176, in __call__\n",
      "    data = t(force_apply=force_apply, **data)\n",
      "  File \"/home/taniguchi-j/anaconda3/envs/ppc/lib/python3.6/site-packages/albumentations/core/composition.py\", line 221, in __call__\n",
      "    data = t(force_apply=True, **data)\n",
      "  File \"/home/taniguchi-j/anaconda3/envs/ppc/lib/python3.6/site-packages/albumentations/imgaug/transforms.py\", line 38, in __call__\n",
      "    return super(BasicIAATransform, self).__call__(**kwargs)\n",
      "  File \"/home/taniguchi-j/anaconda3/envs/ppc/lib/python3.6/site-packages/albumentations/core/transforms_interface.py\", line 87, in __call__\n",
      "    return self.apply_with_params(params, **kwargs)\n",
      "  File \"/home/taniguchi-j/anaconda3/envs/ppc/lib/python3.6/site-packages/albumentations/core/transforms_interface.py\", line 100, in apply_with_params\n",
      "    res[key] = target_function(arg, **dict(params, **target_dependencies))\n",
      "  File \"/home/taniguchi-j/anaconda3/envs/ppc/lib/python3.6/site-packages/albumentations/core/transforms_interface.py\", line 223, in apply_to_mask\n",
      "    return self.apply(img, **{k: cv2.INTER_NEAREST if k == \"interpolation\" else v for k, v in params.items()})\n",
      "  File \"/home/taniguchi-j/anaconda3/envs/ppc/lib/python3.6/site-packages/albumentations/imgaug/transforms.py\", line 46, in apply\n",
      "    return deterministic_processor.augment_image(img)\n",
      "  File \"/home/taniguchi-j/anaconda3/envs/ppc/lib/python3.6/site-packages/imgaug/augmenters/meta.py\", line 571, in augment_image\n",
      "    return self.augment_images([image], hooks=hooks)[0]\n",
      "  File \"/home/taniguchi-j/anaconda3/envs/ppc/lib/python3.6/site-packages/imgaug/augmenters/meta.py\", line 695, in augment_images\n",
      "    hooks=hooks\n",
      "  File \"/home/taniguchi-j/anaconda3/envs/ppc/lib/python3.6/site-packages/imgaug/augmenters/geometric.py\", line 2088, in _augment_images\n",
      "    output_shape=images[i].shape\n",
      "  File \"/home/taniguchi-j/anaconda3/envs/ppc/lib/python3.6/site-packages/skimage/transform/_warps.py\", line 906, in warp\n",
      "    coords = warp_coords(coord_map, output_shape)\n",
      "  File \"/home/taniguchi-j/anaconda3/envs/ppc/lib/python3.6/site-packages/skimage/transform/_warps.py\", line 613, in warp_coords\n",
      "    tf_coords = coord_map(tf_coords)\n",
      "  File \"/home/taniguchi-j/anaconda3/envs/ppc/lib/python3.6/site-packages/skimage/transform/_warps.py\", line 897, in coord_map\n",
      "    return inverse_map(*args, **map_args)\n",
      "  File \"/home/taniguchi-j/anaconda3/envs/ppc/lib/python3.6/site-packages/skimage/transform/_geometric.py\", line 901, in __call__\n",
      "    out[index_mask, :] = affine(coords[index_mask, :])\n",
      "KeyboardInterrupt\n",
      "Process Keras_worker_ForkPoolWorker-8:\n",
      "Traceback (most recent call last):\n",
      "  File \"/home/taniguchi-j/anaconda3/envs/ppc/lib/python3.6/multiprocessing/process.py\", line 258, in _bootstrap\n",
      "    self.run()\n",
      "  File \"/home/taniguchi-j/anaconda3/envs/ppc/lib/python3.6/multiprocessing/process.py\", line 93, in run\n",
      "    self._target(*self._args, **self._kwargs)\n",
      "  File \"/home/taniguchi-j/anaconda3/envs/ppc/lib/python3.6/multiprocessing/pool.py\", line 119, in worker\n",
      "    result = (True, func(*args, **kwds))\n",
      "  File \"/home/taniguchi-j/anaconda3/envs/ppc/lib/python3.6/site-packages/tensorflow_core/python/keras/utils/data_utils.py\", line 571, in get_index\n",
      "    return _SHARED_SEQUENCES[uid][i]\n",
      "  File \"./src/data_gen.py\", line 47, in __getitem__\n",
      "    x,y = data_augment(x,y,image_size=self.image_size, p=0.95)\n",
      "  File \"./src/data_augment.py\", line 42, in data_augment\n",
      "    auged = aug(image=images[i,:,:,:],mask=masks[i,:,:,:])\n",
      "  File \"/home/taniguchi-j/anaconda3/envs/ppc/lib/python3.6/site-packages/albumentations/core/composition.py\", line 176, in __call__\n",
      "    data = t(force_apply=force_apply, **data)\n",
      "  File \"/home/taniguchi-j/anaconda3/envs/ppc/lib/python3.6/site-packages/albumentations/core/composition.py\", line 221, in __call__\n",
      "    data = t(force_apply=True, **data)\n",
      "  File \"/home/taniguchi-j/anaconda3/envs/ppc/lib/python3.6/site-packages/albumentations/core/transforms_interface.py\", line 87, in __call__\n",
      "    return self.apply_with_params(params, **kwargs)\n",
      "  File \"/home/taniguchi-j/anaconda3/envs/ppc/lib/python3.6/site-packages/albumentations/core/transforms_interface.py\", line 100, in apply_with_params\n",
      "    res[key] = target_function(arg, **dict(params, **target_dependencies))\n",
      "  File \"/home/taniguchi-j/anaconda3/envs/ppc/lib/python3.6/site-packages/albumentations/augmentations/transforms.py\", line 1299, in apply\n",
      "    self.approximate,\n",
      "  File \"/home/taniguchi-j/anaconda3/envs/ppc/lib/python3.6/site-packages/albumentations/augmentations/functional.py\", line 54, in wrapped_function\n",
      "    result = func(img, *args, **kwargs)\n",
      "  File \"/home/taniguchi-j/anaconda3/envs/ppc/lib/python3.6/site-packages/albumentations/augmentations/functional.py\", line 1152, in elastic_transform\n",
      "    dx = np.float32(gaussian_filter((random_state.rand(height, width) * 2 - 1), sigma) * alpha)\n",
      "  File \"/home/taniguchi-j/anaconda3/envs/ppc/lib/python3.6/site-packages/scipy/ndimage/filters.py\", line 299, in gaussian_filter\n",
      "    mode, cval, truncate)\n",
      "  File \"/home/taniguchi-j/anaconda3/envs/ppc/lib/python3.6/site-packages/scipy/ndimage/filters.py\", line 217, in gaussian_filter1d\n",
      "    return correlate1d(input, weights, axis, output, mode, cval, 0)\n",
      "  File \"/home/taniguchi-j/anaconda3/envs/ppc/lib/python3.6/site-packages/scipy/ndimage/filters.py\", line 95, in correlate1d\n",
      "    origin)\n",
      "KeyboardInterrupt\n",
      "Process Keras_worker_ForkPoolWorker-5:\n",
      "Traceback (most recent call last):\n",
      "  File \"/home/taniguchi-j/anaconda3/envs/ppc/lib/python3.6/multiprocessing/process.py\", line 258, in _bootstrap\n",
      "    self.run()\n",
      "Process Keras_worker_ForkPoolWorker-7:\n",
      "  File \"/home/taniguchi-j/anaconda3/envs/ppc/lib/python3.6/multiprocessing/process.py\", line 93, in run\n",
      "    self._target(*self._args, **self._kwargs)\n",
      "  File \"/home/taniguchi-j/anaconda3/envs/ppc/lib/python3.6/multiprocessing/pool.py\", line 119, in worker\n",
      "    result = (True, func(*args, **kwds))\n",
      "  File \"/home/taniguchi-j/anaconda3/envs/ppc/lib/python3.6/site-packages/tensorflow_core/python/keras/utils/data_utils.py\", line 571, in get_index\n",
      "    return _SHARED_SEQUENCES[uid][i]\n",
      "  File \"./src/data_gen.py\", line 47, in __getitem__\n",
      "    x,y = data_augment(x,y,image_size=self.image_size, p=0.95)\n",
      "  File \"./src/data_augment.py\", line 42, in data_augment\n",
      "    auged = aug(image=images[i,:,:,:],mask=masks[i,:,:,:])\n",
      "  File \"/home/taniguchi-j/anaconda3/envs/ppc/lib/python3.6/site-packages/albumentations/core/composition.py\", line 176, in __call__\n",
      "    data = t(force_apply=force_apply, **data)\n",
      "Traceback (most recent call last):\n",
      "  File \"/home/taniguchi-j/anaconda3/envs/ppc/lib/python3.6/site-packages/albumentations/core/composition.py\", line 221, in __call__\n",
      "    data = t(force_apply=True, **data)\n",
      "  File \"/home/taniguchi-j/anaconda3/envs/ppc/lib/python3.6/multiprocessing/process.py\", line 258, in _bootstrap\n",
      "    self.run()\n",
      "  File \"/home/taniguchi-j/anaconda3/envs/ppc/lib/python3.6/site-packages/albumentations/imgaug/transforms.py\", line 38, in __call__\n",
      "    return super(BasicIAATransform, self).__call__(**kwargs)\n",
      "  File \"/home/taniguchi-j/anaconda3/envs/ppc/lib/python3.6/multiprocessing/process.py\", line 93, in run\n",
      "    self._target(*self._args, **self._kwargs)\n",
      "  File \"/home/taniguchi-j/anaconda3/envs/ppc/lib/python3.6/site-packages/albumentations/core/transforms_interface.py\", line 87, in __call__\n",
      "    return self.apply_with_params(params, **kwargs)\n",
      "  File \"/home/taniguchi-j/anaconda3/envs/ppc/lib/python3.6/multiprocessing/pool.py\", line 119, in worker\n",
      "    result = (True, func(*args, **kwds))\n",
      "  File \"/home/taniguchi-j/anaconda3/envs/ppc/lib/python3.6/site-packages/albumentations/core/transforms_interface.py\", line 100, in apply_with_params\n",
      "    res[key] = target_function(arg, **dict(params, **target_dependencies))\n",
      "  File \"/home/taniguchi-j/anaconda3/envs/ppc/lib/python3.6/site-packages/tensorflow_core/python/keras/utils/data_utils.py\", line 571, in get_index\n",
      "    return _SHARED_SEQUENCES[uid][i]\n",
      "  File \"/home/taniguchi-j/anaconda3/envs/ppc/lib/python3.6/site-packages/albumentations/core/transforms_interface.py\", line 223, in apply_to_mask\n",
      "    return self.apply(img, **{k: cv2.INTER_NEAREST if k == \"interpolation\" else v for k, v in params.items()})\n",
      "  File \"./src/data_gen.py\", line 47, in __getitem__\n",
      "    x,y = data_augment(x,y,image_size=self.image_size, p=0.95)\n",
      "  File \"/home/taniguchi-j/anaconda3/envs/ppc/lib/python3.6/site-packages/albumentations/imgaug/transforms.py\", line 46, in apply\n",
      "    return deterministic_processor.augment_image(img)\n",
      "  File \"./src/data_augment.py\", line 42, in data_augment\n",
      "    auged = aug(image=images[i,:,:,:],mask=masks[i,:,:,:])\n",
      "  File \"/home/taniguchi-j/anaconda3/envs/ppc/lib/python3.6/site-packages/imgaug/augmenters/meta.py\", line 571, in augment_image\n",
      "    return self.augment_images([image], hooks=hooks)[0]\n",
      "  File \"/home/taniguchi-j/anaconda3/envs/ppc/lib/python3.6/site-packages/albumentations/core/composition.py\", line 176, in __call__\n",
      "    data = t(force_apply=force_apply, **data)\n",
      "  File \"/home/taniguchi-j/anaconda3/envs/ppc/lib/python3.6/site-packages/imgaug/augmenters/meta.py\", line 695, in augment_images\n",
      "    hooks=hooks\n",
      "  File \"/home/taniguchi-j/anaconda3/envs/ppc/lib/python3.6/site-packages/albumentations/core/composition.py\", line 221, in __call__\n",
      "    data = t(force_apply=True, **data)\n",
      "  File \"/home/taniguchi-j/anaconda3/envs/ppc/lib/python3.6/site-packages/imgaug/augmenters/geometric.py\", line 2088, in _augment_images\n",
      "    output_shape=images[i].shape\n",
      "  File \"/home/taniguchi-j/anaconda3/envs/ppc/lib/python3.6/site-packages/albumentations/imgaug/transforms.py\", line 38, in __call__\n",
      "    return super(BasicIAATransform, self).__call__(**kwargs)\n",
      "  File \"/home/taniguchi-j/anaconda3/envs/ppc/lib/python3.6/site-packages/skimage/transform/_warps.py\", line 913, in warp\n",
      "    mode=ndi_mode, order=order, cval=cval)\n",
      "  File \"/home/taniguchi-j/anaconda3/envs/ppc/lib/python3.6/site-packages/albumentations/core/transforms_interface.py\", line 87, in __call__\n",
      "    return self.apply_with_params(params, **kwargs)\n",
      "  File \"/home/taniguchi-j/anaconda3/envs/ppc/lib/python3.6/site-packages/scipy/ndimage/interpolation.py\", line 350, in map_coordinates\n",
      "    output, order, mode, cval, None, None)\n",
      "  File \"/home/taniguchi-j/anaconda3/envs/ppc/lib/python3.6/site-packages/albumentations/core/transforms_interface.py\", line 100, in apply_with_params\n",
      "    res[key] = target_function(arg, **dict(params, **target_dependencies))\n",
      "KeyboardInterrupt\n",
      "  File \"/home/taniguchi-j/anaconda3/envs/ppc/lib/python3.6/site-packages/albumentations/core/transforms_interface.py\", line 223, in apply_to_mask\n",
      "    return self.apply(img, **{k: cv2.INTER_NEAREST if k == \"interpolation\" else v for k, v in params.items()})\n",
      "  File \"/home/taniguchi-j/anaconda3/envs/ppc/lib/python3.6/site-packages/albumentations/imgaug/transforms.py\", line 46, in apply\n",
      "    return deterministic_processor.augment_image(img)\n",
      "  File \"/home/taniguchi-j/anaconda3/envs/ppc/lib/python3.6/site-packages/imgaug/augmenters/meta.py\", line 571, in augment_image\n",
      "    return self.augment_images([image], hooks=hooks)[0]\n",
      "  File \"/home/taniguchi-j/anaconda3/envs/ppc/lib/python3.6/site-packages/imgaug/augmenters/meta.py\", line 695, in augment_images\n",
      "    hooks=hooks\n",
      "  File \"/home/taniguchi-j/anaconda3/envs/ppc/lib/python3.6/site-packages/imgaug/augmenters/geometric.py\", line 2088, in _augment_images\n",
      "    output_shape=images[i].shape\n",
      "  File \"/home/taniguchi-j/anaconda3/envs/ppc/lib/python3.6/site-packages/skimage/transform/_warps.py\", line 913, in warp\n",
      "    mode=ndi_mode, order=order, cval=cval)\n",
      "  File \"/home/taniguchi-j/anaconda3/envs/ppc/lib/python3.6/site-packages/scipy/ndimage/interpolation.py\", line 350, in map_coordinates\n",
      "    output, order, mode, cval, None, None)\n",
      "KeyboardInterrupt\n",
      "Process Keras_worker_ForkPoolWorker-4:\n",
      "Traceback (most recent call last):\n",
      "  File \"/home/taniguchi-j/anaconda3/envs/ppc/lib/python3.6/multiprocessing/process.py\", line 258, in _bootstrap\n",
      "    self.run()\n",
      "  File \"/home/taniguchi-j/anaconda3/envs/ppc/lib/python3.6/multiprocessing/process.py\", line 93, in run\n",
      "    self._target(*self._args, **self._kwargs)\n",
      "  File \"/home/taniguchi-j/anaconda3/envs/ppc/lib/python3.6/multiprocessing/pool.py\", line 119, in worker\n",
      "    result = (True, func(*args, **kwds))\n",
      "  File \"/home/taniguchi-j/anaconda3/envs/ppc/lib/python3.6/site-packages/tensorflow_core/python/keras/utils/data_utils.py\", line 571, in get_index\n",
      "    return _SHARED_SEQUENCES[uid][i]\n",
      "  File \"./src/data_gen.py\", line 47, in __getitem__\n",
      "    x,y = data_augment(x,y,image_size=self.image_size, p=0.95)\n",
      "  File \"./src/data_augment.py\", line 42, in data_augment\n",
      "    auged = aug(image=images[i,:,:,:],mask=masks[i,:,:,:])\n",
      "  File \"/home/taniguchi-j/anaconda3/envs/ppc/lib/python3.6/site-packages/albumentations/core/composition.py\", line 176, in __call__\n",
      "    data = t(force_apply=force_apply, **data)\n",
      "  File \"/home/taniguchi-j/anaconda3/envs/ppc/lib/python3.6/site-packages/albumentations/core/composition.py\", line 221, in __call__\n",
      "    data = t(force_apply=True, **data)\n",
      "  File \"/home/taniguchi-j/anaconda3/envs/ppc/lib/python3.6/site-packages/albumentations/imgaug/transforms.py\", line 38, in __call__\n",
      "    return super(BasicIAATransform, self).__call__(**kwargs)\n",
      "  File \"/home/taniguchi-j/anaconda3/envs/ppc/lib/python3.6/site-packages/albumentations/core/transforms_interface.py\", line 87, in __call__\n",
      "    return self.apply_with_params(params, **kwargs)\n",
      "  File \"/home/taniguchi-j/anaconda3/envs/ppc/lib/python3.6/site-packages/albumentations/core/transforms_interface.py\", line 100, in apply_with_params\n",
      "    res[key] = target_function(arg, **dict(params, **target_dependencies))\n",
      "  File \"/home/taniguchi-j/anaconda3/envs/ppc/lib/python3.6/site-packages/albumentations/core/transforms_interface.py\", line 223, in apply_to_mask\n",
      "    return self.apply(img, **{k: cv2.INTER_NEAREST if k == \"interpolation\" else v for k, v in params.items()})\n",
      "  File \"/home/taniguchi-j/anaconda3/envs/ppc/lib/python3.6/site-packages/albumentations/imgaug/transforms.py\", line 46, in apply\n",
      "    return deterministic_processor.augment_image(img)\n",
      "  File \"/home/taniguchi-j/anaconda3/envs/ppc/lib/python3.6/site-packages/imgaug/augmenters/meta.py\", line 571, in augment_image\n",
      "    return self.augment_images([image], hooks=hooks)[0]\n",
      "  File \"/home/taniguchi-j/anaconda3/envs/ppc/lib/python3.6/site-packages/imgaug/augmenters/meta.py\", line 695, in augment_images\n",
      "    hooks=hooks\n",
      "  File \"/home/taniguchi-j/anaconda3/envs/ppc/lib/python3.6/site-packages/imgaug/augmenters/geometric.py\", line 2088, in _augment_images\n",
      "    output_shape=images[i].shape\n",
      "  File \"/home/taniguchi-j/anaconda3/envs/ppc/lib/python3.6/site-packages/skimage/transform/_warps.py\", line 913, in warp\n",
      "    mode=ndi_mode, order=order, cval=cval)\n",
      "  File \"/home/taniguchi-j/anaconda3/envs/ppc/lib/python3.6/site-packages/scipy/ndimage/interpolation.py\", line 350, in map_coordinates\n",
      "    output, order, mode, cval, None, None)\n",
      "KeyboardInterrupt\n"
     ]
    },
    {
     "ename": "KeyboardInterrupt",
     "evalue": "",
     "output_type": "error",
     "traceback": [
      "\u001b[0;31m---------------------------------------------------------------------------\u001b[0m",
      "\u001b[0;31mKeyboardInterrupt\u001b[0m                         Traceback (most recent call last)",
      "\u001b[0;32m<ipython-input-17-666d0e1fc99a>\u001b[0m in \u001b[0;36m<module>\u001b[0;34m\u001b[0m\n\u001b[1;32m      8\u001b[0m                            \u001b[0mworkers\u001b[0m\u001b[0;34m=\u001b[0m\u001b[0;36m8\u001b[0m\u001b[0;34m,\u001b[0m\u001b[0;34m\u001b[0m\u001b[0;34m\u001b[0m\u001b[0m\n\u001b[1;32m      9\u001b[0m                            \u001b[0muse_multiprocessing\u001b[0m\u001b[0;34m=\u001b[0m\u001b[0;32mTrue\u001b[0m\u001b[0;34m,\u001b[0m\u001b[0;34m\u001b[0m\u001b[0;34m\u001b[0m\u001b[0m\n\u001b[0;32m---> 10\u001b[0;31m                            callbacks=[cp_cb])\n\u001b[0m\u001b[1;32m     11\u001b[0m \u001b[0;31m#hist = model.fit_generator(data_gen, epochs=par.n_epochs, steps_per_epoch=par.n_batch, workers=8, use_multiprocessing=True)\u001b[0m\u001b[0;34m\u001b[0m\u001b[0;34m\u001b[0m\u001b[0;34m\u001b[0m\u001b[0m\n",
      "\u001b[0;32m~/anaconda3/envs/ppc/lib/python3.6/site-packages/tensorflow_core/python/keras/engine/training.py\u001b[0m in \u001b[0;36mfit_generator\u001b[0;34m(self, generator, steps_per_epoch, epochs, verbose, callbacks, validation_data, validation_steps, validation_freq, class_weight, max_queue_size, workers, use_multiprocessing, shuffle, initial_epoch)\u001b[0m\n\u001b[1;32m   1294\u001b[0m         \u001b[0mshuffle\u001b[0m\u001b[0;34m=\u001b[0m\u001b[0mshuffle\u001b[0m\u001b[0;34m,\u001b[0m\u001b[0;34m\u001b[0m\u001b[0;34m\u001b[0m\u001b[0m\n\u001b[1;32m   1295\u001b[0m         \u001b[0minitial_epoch\u001b[0m\u001b[0;34m=\u001b[0m\u001b[0minitial_epoch\u001b[0m\u001b[0;34m,\u001b[0m\u001b[0;34m\u001b[0m\u001b[0;34m\u001b[0m\u001b[0m\n\u001b[0;32m-> 1296\u001b[0;31m         steps_name='steps_per_epoch')\n\u001b[0m\u001b[1;32m   1297\u001b[0m \u001b[0;34m\u001b[0m\u001b[0m\n\u001b[1;32m   1298\u001b[0m   def evaluate_generator(self,\n",
      "\u001b[0;32m~/anaconda3/envs/ppc/lib/python3.6/site-packages/tensorflow_core/python/keras/engine/training_generator.py\u001b[0m in \u001b[0;36mmodel_iteration\u001b[0;34m(model, data, steps_per_epoch, epochs, verbose, callbacks, validation_data, validation_steps, validation_freq, class_weight, max_queue_size, workers, use_multiprocessing, shuffle, initial_epoch, mode, batch_size, steps_name, **kwargs)\u001b[0m\n\u001b[1;32m    263\u001b[0m \u001b[0;34m\u001b[0m\u001b[0m\n\u001b[1;32m    264\u001b[0m       \u001b[0mis_deferred\u001b[0m \u001b[0;34m=\u001b[0m \u001b[0;32mnot\u001b[0m \u001b[0mmodel\u001b[0m\u001b[0;34m.\u001b[0m\u001b[0m_is_compiled\u001b[0m\u001b[0;34m\u001b[0m\u001b[0;34m\u001b[0m\u001b[0m\n\u001b[0;32m--> 265\u001b[0;31m       \u001b[0mbatch_outs\u001b[0m \u001b[0;34m=\u001b[0m \u001b[0mbatch_function\u001b[0m\u001b[0;34m(\u001b[0m\u001b[0;34m*\u001b[0m\u001b[0mbatch_data\u001b[0m\u001b[0;34m)\u001b[0m\u001b[0;34m\u001b[0m\u001b[0;34m\u001b[0m\u001b[0m\n\u001b[0m\u001b[1;32m    266\u001b[0m       \u001b[0;32mif\u001b[0m \u001b[0;32mnot\u001b[0m \u001b[0misinstance\u001b[0m\u001b[0;34m(\u001b[0m\u001b[0mbatch_outs\u001b[0m\u001b[0;34m,\u001b[0m \u001b[0mlist\u001b[0m\u001b[0;34m)\u001b[0m\u001b[0;34m:\u001b[0m\u001b[0;34m\u001b[0m\u001b[0;34m\u001b[0m\u001b[0m\n\u001b[1;32m    267\u001b[0m         \u001b[0mbatch_outs\u001b[0m \u001b[0;34m=\u001b[0m \u001b[0;34m[\u001b[0m\u001b[0mbatch_outs\u001b[0m\u001b[0;34m]\u001b[0m\u001b[0;34m\u001b[0m\u001b[0;34m\u001b[0m\u001b[0m\n",
      "\u001b[0;32m~/anaconda3/envs/ppc/lib/python3.6/site-packages/tensorflow_core/python/keras/engine/training.py\u001b[0m in \u001b[0;36mtrain_on_batch\u001b[0;34m(self, x, y, sample_weight, class_weight, reset_metrics)\u001b[0m\n\u001b[1;32m    970\u001b[0m       outputs = training_v2_utils.train_on_batch(\n\u001b[1;32m    971\u001b[0m           \u001b[0mself\u001b[0m\u001b[0;34m,\u001b[0m \u001b[0mx\u001b[0m\u001b[0;34m,\u001b[0m \u001b[0my\u001b[0m\u001b[0;34m=\u001b[0m\u001b[0my\u001b[0m\u001b[0;34m,\u001b[0m \u001b[0msample_weight\u001b[0m\u001b[0;34m=\u001b[0m\u001b[0msample_weight\u001b[0m\u001b[0;34m,\u001b[0m\u001b[0;34m\u001b[0m\u001b[0;34m\u001b[0m\u001b[0m\n\u001b[0;32m--> 972\u001b[0;31m           class_weight=class_weight, reset_metrics=reset_metrics)\n\u001b[0m\u001b[1;32m    973\u001b[0m       outputs = (outputs['total_loss'] + outputs['output_losses'] +\n\u001b[1;32m    974\u001b[0m                  outputs['metrics'])\n",
      "\u001b[0;32m~/anaconda3/envs/ppc/lib/python3.6/site-packages/tensorflow_core/python/keras/engine/training_v2_utils.py\u001b[0m in \u001b[0;36mtrain_on_batch\u001b[0;34m(model, x, y, sample_weight, class_weight, reset_metrics)\u001b[0m\n\u001b[1;32m    262\u001b[0m       \u001b[0my\u001b[0m\u001b[0;34m,\u001b[0m\u001b[0;34m\u001b[0m\u001b[0;34m\u001b[0m\u001b[0m\n\u001b[1;32m    263\u001b[0m       \u001b[0msample_weights\u001b[0m\u001b[0;34m=\u001b[0m\u001b[0msample_weights\u001b[0m\u001b[0;34m,\u001b[0m\u001b[0;34m\u001b[0m\u001b[0;34m\u001b[0m\u001b[0m\n\u001b[0;32m--> 264\u001b[0;31m       output_loss_metrics=model._output_loss_metrics)\n\u001b[0m\u001b[1;32m    265\u001b[0m \u001b[0;34m\u001b[0m\u001b[0m\n\u001b[1;32m    266\u001b[0m   \u001b[0;32mif\u001b[0m \u001b[0mreset_metrics\u001b[0m\u001b[0;34m:\u001b[0m\u001b[0;34m\u001b[0m\u001b[0;34m\u001b[0m\u001b[0m\n",
      "\u001b[0;32m~/anaconda3/envs/ppc/lib/python3.6/site-packages/tensorflow_core/python/keras/engine/training_eager.py\u001b[0m in \u001b[0;36mtrain_on_batch\u001b[0;34m(model, inputs, targets, sample_weights, output_loss_metrics)\u001b[0m\n\u001b[1;32m    309\u001b[0m           \u001b[0msample_weights\u001b[0m\u001b[0;34m=\u001b[0m\u001b[0msample_weights\u001b[0m\u001b[0;34m,\u001b[0m\u001b[0;34m\u001b[0m\u001b[0;34m\u001b[0m\u001b[0m\n\u001b[1;32m    310\u001b[0m           \u001b[0mtraining\u001b[0m\u001b[0;34m=\u001b[0m\u001b[0;32mTrue\u001b[0m\u001b[0;34m,\u001b[0m\u001b[0;34m\u001b[0m\u001b[0;34m\u001b[0m\u001b[0m\n\u001b[0;32m--> 311\u001b[0;31m           output_loss_metrics=output_loss_metrics))\n\u001b[0m\u001b[1;32m    312\u001b[0m   \u001b[0;32mif\u001b[0m \u001b[0;32mnot\u001b[0m \u001b[0misinstance\u001b[0m\u001b[0;34m(\u001b[0m\u001b[0mouts\u001b[0m\u001b[0;34m,\u001b[0m \u001b[0mlist\u001b[0m\u001b[0;34m)\u001b[0m\u001b[0;34m:\u001b[0m\u001b[0;34m\u001b[0m\u001b[0;34m\u001b[0m\u001b[0m\n\u001b[1;32m    313\u001b[0m     \u001b[0mouts\u001b[0m \u001b[0;34m=\u001b[0m \u001b[0;34m[\u001b[0m\u001b[0mouts\u001b[0m\u001b[0;34m]\u001b[0m\u001b[0;34m\u001b[0m\u001b[0;34m\u001b[0m\u001b[0m\n",
      "\u001b[0;32m~/anaconda3/envs/ppc/lib/python3.6/site-packages/tensorflow_core/python/keras/engine/training_eager.py\u001b[0m in \u001b[0;36m_process_single_batch\u001b[0;34m(model, inputs, targets, output_loss_metrics, sample_weights, training)\u001b[0m\n\u001b[1;32m    250\u001b[0m               \u001b[0moutput_loss_metrics\u001b[0m\u001b[0;34m=\u001b[0m\u001b[0moutput_loss_metrics\u001b[0m\u001b[0;34m,\u001b[0m\u001b[0;34m\u001b[0m\u001b[0;34m\u001b[0m\u001b[0m\n\u001b[1;32m    251\u001b[0m               \u001b[0msample_weights\u001b[0m\u001b[0;34m=\u001b[0m\u001b[0msample_weights\u001b[0m\u001b[0;34m,\u001b[0m\u001b[0;34m\u001b[0m\u001b[0;34m\u001b[0m\u001b[0m\n\u001b[0;32m--> 252\u001b[0;31m               training=training))\n\u001b[0m\u001b[1;32m    253\u001b[0m       \u001b[0;32mif\u001b[0m \u001b[0mtotal_loss\u001b[0m \u001b[0;32mis\u001b[0m \u001b[0;32mNone\u001b[0m\u001b[0;34m:\u001b[0m\u001b[0;34m\u001b[0m\u001b[0;34m\u001b[0m\u001b[0m\n\u001b[1;32m    254\u001b[0m         raise ValueError('The model cannot be run '\n",
      "\u001b[0;32m~/anaconda3/envs/ppc/lib/python3.6/site-packages/tensorflow_core/python/keras/engine/training_eager.py\u001b[0m in \u001b[0;36m_model_loss\u001b[0;34m(model, inputs, targets, output_loss_metrics, sample_weights, training)\u001b[0m\n\u001b[1;32m    125\u001b[0m     \u001b[0minputs\u001b[0m \u001b[0;34m=\u001b[0m \u001b[0mnest\u001b[0m\u001b[0;34m.\u001b[0m\u001b[0mmap_structure\u001b[0m\u001b[0;34m(\u001b[0m\u001b[0mops\u001b[0m\u001b[0;34m.\u001b[0m\u001b[0mconvert_to_tensor\u001b[0m\u001b[0;34m,\u001b[0m \u001b[0minputs\u001b[0m\u001b[0;34m)\u001b[0m\u001b[0;34m\u001b[0m\u001b[0;34m\u001b[0m\u001b[0m\n\u001b[1;32m    126\u001b[0m \u001b[0;34m\u001b[0m\u001b[0m\n\u001b[0;32m--> 127\u001b[0;31m   \u001b[0mouts\u001b[0m \u001b[0;34m=\u001b[0m \u001b[0mmodel\u001b[0m\u001b[0;34m(\u001b[0m\u001b[0minputs\u001b[0m\u001b[0;34m,\u001b[0m \u001b[0;34m**\u001b[0m\u001b[0mkwargs\u001b[0m\u001b[0;34m)\u001b[0m\u001b[0;34m\u001b[0m\u001b[0;34m\u001b[0m\u001b[0m\n\u001b[0m\u001b[1;32m    128\u001b[0m   \u001b[0mouts\u001b[0m \u001b[0;34m=\u001b[0m \u001b[0mnest\u001b[0m\u001b[0;34m.\u001b[0m\u001b[0mflatten\u001b[0m\u001b[0;34m(\u001b[0m\u001b[0mouts\u001b[0m\u001b[0;34m)\u001b[0m\u001b[0;34m\u001b[0m\u001b[0;34m\u001b[0m\u001b[0m\n\u001b[1;32m    129\u001b[0m \u001b[0;34m\u001b[0m\u001b[0m\n",
      "\u001b[0;32m~/anaconda3/envs/ppc/lib/python3.6/site-packages/tensorflow_core/python/keras/engine/base_layer.py\u001b[0m in \u001b[0;36m__call__\u001b[0;34m(self, inputs, *args, **kwargs)\u001b[0m\n\u001b[1;32m    896\u001b[0m           with base_layer_utils.autocast_context_manager(\n\u001b[1;32m    897\u001b[0m               self._compute_dtype):\n\u001b[0;32m--> 898\u001b[0;31m             \u001b[0moutputs\u001b[0m \u001b[0;34m=\u001b[0m \u001b[0mself\u001b[0m\u001b[0;34m.\u001b[0m\u001b[0mcall\u001b[0m\u001b[0;34m(\u001b[0m\u001b[0mcast_inputs\u001b[0m\u001b[0;34m,\u001b[0m \u001b[0;34m*\u001b[0m\u001b[0margs\u001b[0m\u001b[0;34m,\u001b[0m \u001b[0;34m**\u001b[0m\u001b[0mkwargs\u001b[0m\u001b[0;34m)\u001b[0m\u001b[0;34m\u001b[0m\u001b[0;34m\u001b[0m\u001b[0m\n\u001b[0m\u001b[1;32m    899\u001b[0m           \u001b[0mself\u001b[0m\u001b[0;34m.\u001b[0m\u001b[0m_handle_activity_regularization\u001b[0m\u001b[0;34m(\u001b[0m\u001b[0minputs\u001b[0m\u001b[0;34m,\u001b[0m \u001b[0moutputs\u001b[0m\u001b[0;34m)\u001b[0m\u001b[0;34m\u001b[0m\u001b[0;34m\u001b[0m\u001b[0m\n\u001b[1;32m    900\u001b[0m           \u001b[0mself\u001b[0m\u001b[0;34m.\u001b[0m\u001b[0m_set_mask_metadata\u001b[0m\u001b[0;34m(\u001b[0m\u001b[0minputs\u001b[0m\u001b[0;34m,\u001b[0m \u001b[0moutputs\u001b[0m\u001b[0;34m,\u001b[0m \u001b[0minput_masks\u001b[0m\u001b[0;34m)\u001b[0m\u001b[0;34m\u001b[0m\u001b[0;34m\u001b[0m\u001b[0m\n",
      "\u001b[0;32m~/anaconda3/envs/ppc/lib/python3.6/site-packages/tensorflow_core/python/keras/engine/network.py\u001b[0m in \u001b[0;36mcall\u001b[0;34m(self, inputs, training, mask)\u001b[0m\n\u001b[1;32m    693\u001b[0m                                 ' implement a `call` method.')\n\u001b[1;32m    694\u001b[0m \u001b[0;34m\u001b[0m\u001b[0m\n\u001b[0;32m--> 695\u001b[0;31m     \u001b[0;32mreturn\u001b[0m \u001b[0mself\u001b[0m\u001b[0;34m.\u001b[0m\u001b[0m_run_internal_graph\u001b[0m\u001b[0;34m(\u001b[0m\u001b[0minputs\u001b[0m\u001b[0;34m,\u001b[0m \u001b[0mtraining\u001b[0m\u001b[0;34m=\u001b[0m\u001b[0mtraining\u001b[0m\u001b[0;34m,\u001b[0m \u001b[0mmask\u001b[0m\u001b[0;34m=\u001b[0m\u001b[0mmask\u001b[0m\u001b[0;34m)\u001b[0m\u001b[0;34m\u001b[0m\u001b[0;34m\u001b[0m\u001b[0m\n\u001b[0m\u001b[1;32m    696\u001b[0m \u001b[0;34m\u001b[0m\u001b[0m\n\u001b[1;32m    697\u001b[0m   \u001b[0;32mdef\u001b[0m \u001b[0mcompute_output_shape\u001b[0m\u001b[0;34m(\u001b[0m\u001b[0mself\u001b[0m\u001b[0;34m,\u001b[0m \u001b[0minput_shape\u001b[0m\u001b[0;34m)\u001b[0m\u001b[0;34m:\u001b[0m\u001b[0;34m\u001b[0m\u001b[0;34m\u001b[0m\u001b[0m\n",
      "\u001b[0;32m~/anaconda3/envs/ppc/lib/python3.6/site-packages/tensorflow_core/python/keras/engine/network.py\u001b[0m in \u001b[0;36m_run_internal_graph\u001b[0;34m(self, inputs, training, mask)\u001b[0m\n\u001b[1;32m    842\u001b[0m \u001b[0;34m\u001b[0m\u001b[0m\n\u001b[1;32m    843\u001b[0m           \u001b[0;31m# Compute outputs.\u001b[0m\u001b[0;34m\u001b[0m\u001b[0;34m\u001b[0m\u001b[0;34m\u001b[0m\u001b[0m\n\u001b[0;32m--> 844\u001b[0;31m           \u001b[0moutput_tensors\u001b[0m \u001b[0;34m=\u001b[0m \u001b[0mlayer\u001b[0m\u001b[0;34m(\u001b[0m\u001b[0mcomputed_tensors\u001b[0m\u001b[0;34m,\u001b[0m \u001b[0;34m**\u001b[0m\u001b[0mkwargs\u001b[0m\u001b[0;34m)\u001b[0m\u001b[0;34m\u001b[0m\u001b[0;34m\u001b[0m\u001b[0m\n\u001b[0m\u001b[1;32m    845\u001b[0m \u001b[0;34m\u001b[0m\u001b[0m\n\u001b[1;32m    846\u001b[0m           \u001b[0;31m# Update tensor_dict.\u001b[0m\u001b[0;34m\u001b[0m\u001b[0;34m\u001b[0m\u001b[0;34m\u001b[0m\u001b[0m\n",
      "\u001b[0;32m~/anaconda3/envs/ppc/lib/python3.6/site-packages/tensorflow_core/python/keras/engine/base_layer.py\u001b[0m in \u001b[0;36m__call__\u001b[0;34m(self, inputs, *args, **kwargs)\u001b[0m\n\u001b[1;32m    896\u001b[0m           with base_layer_utils.autocast_context_manager(\n\u001b[1;32m    897\u001b[0m               self._compute_dtype):\n\u001b[0;32m--> 898\u001b[0;31m             \u001b[0moutputs\u001b[0m \u001b[0;34m=\u001b[0m \u001b[0mself\u001b[0m\u001b[0;34m.\u001b[0m\u001b[0mcall\u001b[0m\u001b[0;34m(\u001b[0m\u001b[0mcast_inputs\u001b[0m\u001b[0;34m,\u001b[0m \u001b[0;34m*\u001b[0m\u001b[0margs\u001b[0m\u001b[0;34m,\u001b[0m \u001b[0;34m**\u001b[0m\u001b[0mkwargs\u001b[0m\u001b[0;34m)\u001b[0m\u001b[0;34m\u001b[0m\u001b[0;34m\u001b[0m\u001b[0m\n\u001b[0m\u001b[1;32m    899\u001b[0m           \u001b[0mself\u001b[0m\u001b[0;34m.\u001b[0m\u001b[0m_handle_activity_regularization\u001b[0m\u001b[0;34m(\u001b[0m\u001b[0minputs\u001b[0m\u001b[0;34m,\u001b[0m \u001b[0moutputs\u001b[0m\u001b[0;34m)\u001b[0m\u001b[0;34m\u001b[0m\u001b[0;34m\u001b[0m\u001b[0m\n\u001b[1;32m    900\u001b[0m           \u001b[0mself\u001b[0m\u001b[0;34m.\u001b[0m\u001b[0m_set_mask_metadata\u001b[0m\u001b[0;34m(\u001b[0m\u001b[0minputs\u001b[0m\u001b[0;34m,\u001b[0m \u001b[0moutputs\u001b[0m\u001b[0;34m,\u001b[0m \u001b[0minput_masks\u001b[0m\u001b[0;34m)\u001b[0m\u001b[0;34m\u001b[0m\u001b[0;34m\u001b[0m\u001b[0m\n",
      "\u001b[0;32m~/anaconda3/envs/ppc/lib/python3.6/site-packages/tensorflow_core/python/keras/layers/normalization.py\u001b[0m in \u001b[0;36mcall\u001b[0;34m(self, inputs, training)\u001b[0m\n\u001b[1;32m    657\u001b[0m \u001b[0;34m\u001b[0m\u001b[0m\n\u001b[1;32m    658\u001b[0m     \u001b[0;32mif\u001b[0m \u001b[0mself\u001b[0m\u001b[0;34m.\u001b[0m\u001b[0mfused\u001b[0m\u001b[0;34m:\u001b[0m\u001b[0;34m\u001b[0m\u001b[0;34m\u001b[0m\u001b[0m\n\u001b[0;32m--> 659\u001b[0;31m       \u001b[0moutputs\u001b[0m \u001b[0;34m=\u001b[0m \u001b[0mself\u001b[0m\u001b[0;34m.\u001b[0m\u001b[0m_fused_batch_norm\u001b[0m\u001b[0;34m(\u001b[0m\u001b[0minputs\u001b[0m\u001b[0;34m,\u001b[0m \u001b[0mtraining\u001b[0m\u001b[0;34m=\u001b[0m\u001b[0mtraining\u001b[0m\u001b[0;34m)\u001b[0m\u001b[0;34m\u001b[0m\u001b[0;34m\u001b[0m\u001b[0m\n\u001b[0m\u001b[1;32m    660\u001b[0m       \u001b[0;32mif\u001b[0m \u001b[0mself\u001b[0m\u001b[0;34m.\u001b[0m\u001b[0mvirtual_batch_size\u001b[0m \u001b[0;32mis\u001b[0m \u001b[0;32mnot\u001b[0m \u001b[0;32mNone\u001b[0m\u001b[0;34m:\u001b[0m\u001b[0;34m\u001b[0m\u001b[0;34m\u001b[0m\u001b[0m\n\u001b[1;32m    661\u001b[0m         \u001b[0;31m# Currently never reaches here since fused_batch_norm does not support\u001b[0m\u001b[0;34m\u001b[0m\u001b[0;34m\u001b[0m\u001b[0;34m\u001b[0m\u001b[0m\n",
      "\u001b[0;32m~/anaconda3/envs/ppc/lib/python3.6/site-packages/tensorflow_core/python/keras/layers/normalization.py\u001b[0m in \u001b[0;36m_fused_batch_norm\u001b[0;34m(self, inputs, training)\u001b[0m\n\u001b[1;32m    554\u001b[0m                                              momentum, inputs_size)\n\u001b[1;32m    555\u001b[0m \u001b[0;34m\u001b[0m\u001b[0m\n\u001b[0;32m--> 556\u001b[0;31m       \u001b[0mself\u001b[0m\u001b[0;34m.\u001b[0m\u001b[0madd_update\u001b[0m\u001b[0;34m(\u001b[0m\u001b[0mmean_update\u001b[0m\u001b[0;34m)\u001b[0m\u001b[0;34m\u001b[0m\u001b[0;34m\u001b[0m\u001b[0m\n\u001b[0m\u001b[1;32m    557\u001b[0m       \u001b[0mself\u001b[0m\u001b[0;34m.\u001b[0m\u001b[0madd_update\u001b[0m\u001b[0;34m(\u001b[0m\u001b[0mvariance_update\u001b[0m\u001b[0;34m)\u001b[0m\u001b[0;34m\u001b[0m\u001b[0;34m\u001b[0m\u001b[0m\n\u001b[1;32m    558\u001b[0m \u001b[0;34m\u001b[0m\u001b[0m\n",
      "\u001b[0;32m~/anaconda3/envs/ppc/lib/python3.6/site-packages/tensorflow_core/python/util/deprecation.py\u001b[0m in \u001b[0;36mnew_func\u001b[0;34m(*args, **kwargs)\u001b[0m\n\u001b[1;32m    505\u001b[0m                 \u001b[0;34m'in a future version'\u001b[0m \u001b[0;32mif\u001b[0m \u001b[0mdate\u001b[0m \u001b[0;32mis\u001b[0m \u001b[0;32mNone\u001b[0m \u001b[0;32melse\u001b[0m \u001b[0;34m(\u001b[0m\u001b[0;34m'after %s'\u001b[0m \u001b[0;34m%\u001b[0m \u001b[0mdate\u001b[0m\u001b[0;34m)\u001b[0m\u001b[0;34m,\u001b[0m\u001b[0;34m\u001b[0m\u001b[0;34m\u001b[0m\u001b[0m\n\u001b[1;32m    506\u001b[0m                 instructions)\n\u001b[0;32m--> 507\u001b[0;31m       \u001b[0;32mreturn\u001b[0m \u001b[0mfunc\u001b[0m\u001b[0;34m(\u001b[0m\u001b[0;34m*\u001b[0m\u001b[0margs\u001b[0m\u001b[0;34m,\u001b[0m \u001b[0;34m**\u001b[0m\u001b[0mkwargs\u001b[0m\u001b[0;34m)\u001b[0m\u001b[0;34m\u001b[0m\u001b[0;34m\u001b[0m\u001b[0m\n\u001b[0m\u001b[1;32m    508\u001b[0m \u001b[0;34m\u001b[0m\u001b[0m\n\u001b[1;32m    509\u001b[0m     doc = _add_deprecated_arg_notice_to_docstring(\n",
      "\u001b[0;32m~/anaconda3/envs/ppc/lib/python3.6/site-packages/tensorflow_core/python/keras/engine/base_layer.py\u001b[0m in \u001b[0;36madd_update\u001b[0;34m(self, updates, inputs)\u001b[0m\n\u001b[1;32m   1268\u001b[0m         \u001b[0;32mfor\u001b[0m \u001b[0mupdate\u001b[0m \u001b[0;32min\u001b[0m \u001b[0mupdates\u001b[0m\u001b[0;34m:\u001b[0m\u001b[0;34m\u001b[0m\u001b[0;34m\u001b[0m\u001b[0m\n\u001b[1;32m   1269\u001b[0m           \u001b[0;32mif\u001b[0m \u001b[0mcallable\u001b[0m\u001b[0;34m(\u001b[0m\u001b[0mupdate\u001b[0m\u001b[0;34m)\u001b[0m\u001b[0;34m:\u001b[0m\u001b[0;34m\u001b[0m\u001b[0;34m\u001b[0m\u001b[0m\n\u001b[0;32m-> 1270\u001b[0;31m             \u001b[0mupdate\u001b[0m\u001b[0;34m(\u001b[0m\u001b[0;34m)\u001b[0m\u001b[0;34m\u001b[0m\u001b[0;34m\u001b[0m\u001b[0m\n\u001b[0m\u001b[1;32m   1271\u001b[0m       \u001b[0;32mreturn\u001b[0m\u001b[0;34m\u001b[0m\u001b[0;34m\u001b[0m\u001b[0m\n\u001b[1;32m   1272\u001b[0m \u001b[0;34m\u001b[0m\u001b[0m\n",
      "\u001b[0;32m~/anaconda3/envs/ppc/lib/python3.6/site-packages/tensorflow_core/python/keras/layers/normalization.py\u001b[0m in \u001b[0;36mmean_update\u001b[0;34m()\u001b[0m\n\u001b[1;32m    535\u001b[0m       \u001b[0;32mdef\u001b[0m \u001b[0mmean_update\u001b[0m\u001b[0;34m(\u001b[0m\u001b[0;34m)\u001b[0m\u001b[0;34m:\u001b[0m\u001b[0;34m\u001b[0m\u001b[0;34m\u001b[0m\u001b[0m\n\u001b[1;32m    536\u001b[0m         return self._assign_moving_average(self.moving_mean, mean, momentum,\n\u001b[0;32m--> 537\u001b[0;31m                                            inputs_size)\n\u001b[0m\u001b[1;32m    538\u001b[0m \u001b[0;34m\u001b[0m\u001b[0m\n\u001b[1;32m    539\u001b[0m       \u001b[0;32mdef\u001b[0m \u001b[0mvariance_update\u001b[0m\u001b[0;34m(\u001b[0m\u001b[0;34m)\u001b[0m\u001b[0;34m:\u001b[0m\u001b[0;34m\u001b[0m\u001b[0;34m\u001b[0m\u001b[0m\n",
      "\u001b[0;32m~/anaconda3/envs/ppc/lib/python3.6/site-packages/tensorflow_core/python/keras/layers/normalization.py\u001b[0m in \u001b[0;36m_assign_moving_average\u001b[0;34m(self, variable, value, momentum, inputs_size)\u001b[0m\n\u001b[1;32m    468\u001b[0m     \u001b[0;32mwith\u001b[0m \u001b[0mK\u001b[0m\u001b[0;34m.\u001b[0m\u001b[0mname_scope\u001b[0m\u001b[0;34m(\u001b[0m\u001b[0;34m'AssignMovingAvg'\u001b[0m\u001b[0;34m)\u001b[0m \u001b[0;32mas\u001b[0m \u001b[0mscope\u001b[0m\u001b[0;34m:\u001b[0m\u001b[0;34m\u001b[0m\u001b[0;34m\u001b[0m\u001b[0m\n\u001b[1;32m    469\u001b[0m       \u001b[0;32mwith\u001b[0m \u001b[0mops\u001b[0m\u001b[0;34m.\u001b[0m\u001b[0mcolocate_with\u001b[0m\u001b[0;34m(\u001b[0m\u001b[0mvariable\u001b[0m\u001b[0;34m)\u001b[0m\u001b[0;34m:\u001b[0m\u001b[0;34m\u001b[0m\u001b[0;34m\u001b[0m\u001b[0m\n\u001b[0;32m--> 470\u001b[0;31m         \u001b[0mdecay\u001b[0m \u001b[0;34m=\u001b[0m \u001b[0mops\u001b[0m\u001b[0;34m.\u001b[0m\u001b[0mconvert_to_tensor\u001b[0m\u001b[0;34m(\u001b[0m\u001b[0;36m1.0\u001b[0m \u001b[0;34m-\u001b[0m \u001b[0mmomentum\u001b[0m\u001b[0;34m,\u001b[0m \u001b[0mname\u001b[0m\u001b[0;34m=\u001b[0m\u001b[0;34m'decay'\u001b[0m\u001b[0;34m)\u001b[0m\u001b[0;34m\u001b[0m\u001b[0;34m\u001b[0m\u001b[0m\n\u001b[0m\u001b[1;32m    471\u001b[0m         \u001b[0;32mif\u001b[0m \u001b[0mdecay\u001b[0m\u001b[0;34m.\u001b[0m\u001b[0mdtype\u001b[0m \u001b[0;34m!=\u001b[0m \u001b[0mvariable\u001b[0m\u001b[0;34m.\u001b[0m\u001b[0mdtype\u001b[0m\u001b[0;34m.\u001b[0m\u001b[0mbase_dtype\u001b[0m\u001b[0;34m:\u001b[0m\u001b[0;34m\u001b[0m\u001b[0;34m\u001b[0m\u001b[0m\n\u001b[1;32m    472\u001b[0m           \u001b[0mdecay\u001b[0m \u001b[0;34m=\u001b[0m \u001b[0mmath_ops\u001b[0m\u001b[0;34m.\u001b[0m\u001b[0mcast\u001b[0m\u001b[0;34m(\u001b[0m\u001b[0mdecay\u001b[0m\u001b[0;34m,\u001b[0m \u001b[0mvariable\u001b[0m\u001b[0;34m.\u001b[0m\u001b[0mdtype\u001b[0m\u001b[0;34m.\u001b[0m\u001b[0mbase_dtype\u001b[0m\u001b[0;34m)\u001b[0m\u001b[0;34m\u001b[0m\u001b[0;34m\u001b[0m\u001b[0m\n",
      "\u001b[0;32m~/anaconda3/envs/ppc/lib/python3.6/site-packages/tensorflow_core/python/ops/math_ops.py\u001b[0m in \u001b[0;36mr_binary_op_wrapper\u001b[0;34m(y, x)\u001b[0m\n\u001b[1;32m    923\u001b[0m     \u001b[0;32mwith\u001b[0m \u001b[0mops\u001b[0m\u001b[0;34m.\u001b[0m\u001b[0mname_scope\u001b[0m\u001b[0;34m(\u001b[0m\u001b[0;32mNone\u001b[0m\u001b[0;34m,\u001b[0m \u001b[0mop_name\u001b[0m\u001b[0;34m,\u001b[0m \u001b[0;34m[\u001b[0m\u001b[0mx\u001b[0m\u001b[0;34m,\u001b[0m \u001b[0my\u001b[0m\u001b[0;34m]\u001b[0m\u001b[0;34m)\u001b[0m \u001b[0;32mas\u001b[0m \u001b[0mname\u001b[0m\u001b[0;34m:\u001b[0m\u001b[0;34m\u001b[0m\u001b[0;34m\u001b[0m\u001b[0m\n\u001b[1;32m    924\u001b[0m       \u001b[0mx\u001b[0m \u001b[0;34m=\u001b[0m \u001b[0mops\u001b[0m\u001b[0;34m.\u001b[0m\u001b[0mconvert_to_tensor\u001b[0m\u001b[0;34m(\u001b[0m\u001b[0mx\u001b[0m\u001b[0;34m,\u001b[0m \u001b[0mdtype\u001b[0m\u001b[0;34m=\u001b[0m\u001b[0my\u001b[0m\u001b[0;34m.\u001b[0m\u001b[0mdtype\u001b[0m\u001b[0;34m.\u001b[0m\u001b[0mbase_dtype\u001b[0m\u001b[0;34m,\u001b[0m \u001b[0mname\u001b[0m\u001b[0;34m=\u001b[0m\u001b[0;34m\"x\"\u001b[0m\u001b[0;34m)\u001b[0m\u001b[0;34m\u001b[0m\u001b[0;34m\u001b[0m\u001b[0m\n\u001b[0;32m--> 925\u001b[0;31m       \u001b[0;32mreturn\u001b[0m \u001b[0mfunc\u001b[0m\u001b[0;34m(\u001b[0m\u001b[0mx\u001b[0m\u001b[0;34m,\u001b[0m \u001b[0my\u001b[0m\u001b[0;34m,\u001b[0m \u001b[0mname\u001b[0m\u001b[0;34m=\u001b[0m\u001b[0mname\u001b[0m\u001b[0;34m)\u001b[0m\u001b[0;34m\u001b[0m\u001b[0;34m\u001b[0m\u001b[0m\n\u001b[0m\u001b[1;32m    926\u001b[0m \u001b[0;34m\u001b[0m\u001b[0m\n\u001b[1;32m    927\u001b[0m   \u001b[0;31m# Propagate func.__doc__ to the wrappers\u001b[0m\u001b[0;34m\u001b[0m\u001b[0;34m\u001b[0m\u001b[0;34m\u001b[0m\u001b[0m\n",
      "\u001b[0;32m~/anaconda3/envs/ppc/lib/python3.6/site-packages/tensorflow_core/python/ops/gen_math_ops.py\u001b[0m in \u001b[0;36msub\u001b[0;34m(x, y, name)\u001b[0m\n\u001b[1;32m  11068\u001b[0m       _result = _pywrap_tensorflow.TFE_Py_FastPathExecute(\n\u001b[1;32m  11069\u001b[0m         \u001b[0m_ctx\u001b[0m\u001b[0;34m.\u001b[0m\u001b[0m_context_handle\u001b[0m\u001b[0;34m,\u001b[0m \u001b[0m_ctx\u001b[0m\u001b[0;34m.\u001b[0m\u001b[0m_thread_local_data\u001b[0m\u001b[0;34m.\u001b[0m\u001b[0mdevice_name\u001b[0m\u001b[0;34m,\u001b[0m \u001b[0;34m\"Sub\"\u001b[0m\u001b[0;34m,\u001b[0m\u001b[0;34m\u001b[0m\u001b[0;34m\u001b[0m\u001b[0m\n\u001b[0;32m> 11070\u001b[0;31m         name, _ctx.post_execution_callbacks, x, y)\n\u001b[0m\u001b[1;32m  11071\u001b[0m       \u001b[0;32mreturn\u001b[0m \u001b[0m_result\u001b[0m\u001b[0;34m\u001b[0m\u001b[0;34m\u001b[0m\u001b[0m\n\u001b[1;32m  11072\u001b[0m     \u001b[0;32mexcept\u001b[0m \u001b[0m_core\u001b[0m\u001b[0;34m.\u001b[0m\u001b[0m_FallbackException\u001b[0m\u001b[0;34m:\u001b[0m\u001b[0;34m\u001b[0m\u001b[0;34m\u001b[0m\u001b[0m\n",
      "\u001b[0;31mKeyboardInterrupt\u001b[0m: "
     ]
    },
    {
     "name": "stderr",
     "output_type": "stream",
     "text": [
      "Process Keras_worker_ForkPoolWorker-2:\n",
      "Traceback (most recent call last):\n",
      "  File \"/home/taniguchi-j/anaconda3/envs/ppc/lib/python3.6/multiprocessing/process.py\", line 258, in _bootstrap\n",
      "    self.run()\n",
      "  File \"/home/taniguchi-j/anaconda3/envs/ppc/lib/python3.6/multiprocessing/process.py\", line 93, in run\n",
      "    self._target(*self._args, **self._kwargs)\n",
      "  File \"/home/taniguchi-j/anaconda3/envs/ppc/lib/python3.6/multiprocessing/pool.py\", line 119, in worker\n",
      "    result = (True, func(*args, **kwds))\n",
      "  File \"/home/taniguchi-j/anaconda3/envs/ppc/lib/python3.6/site-packages/tensorflow_core/python/keras/utils/data_utils.py\", line 571, in get_index\n",
      "    return _SHARED_SEQUENCES[uid][i]\n",
      "  File \"./src/data_gen.py\", line 47, in __getitem__\n",
      "    x,y = data_augment(x,y,image_size=self.image_size, p=0.95)\n",
      "  File \"./src/data_augment.py\", line 42, in data_augment\n",
      "    auged = aug(image=images[i,:,:,:],mask=masks[i,:,:,:])\n",
      "  File \"/home/taniguchi-j/anaconda3/envs/ppc/lib/python3.6/site-packages/albumentations/core/composition.py\", line 176, in __call__\n",
      "    data = t(force_apply=force_apply, **data)\n",
      "  File \"/home/taniguchi-j/anaconda3/envs/ppc/lib/python3.6/site-packages/albumentations/core/composition.py\", line 221, in __call__\n",
      "    data = t(force_apply=True, **data)\n",
      "  File \"/home/taniguchi-j/anaconda3/envs/ppc/lib/python3.6/site-packages/albumentations/imgaug/transforms.py\", line 38, in __call__\n",
      "    return super(BasicIAATransform, self).__call__(**kwargs)\n",
      "  File \"/home/taniguchi-j/anaconda3/envs/ppc/lib/python3.6/site-packages/albumentations/core/transforms_interface.py\", line 87, in __call__\n",
      "    return self.apply_with_params(params, **kwargs)\n",
      "  File \"/home/taniguchi-j/anaconda3/envs/ppc/lib/python3.6/site-packages/albumentations/core/transforms_interface.py\", line 100, in apply_with_params\n",
      "    res[key] = target_function(arg, **dict(params, **target_dependencies))\n",
      "  File \"/home/taniguchi-j/anaconda3/envs/ppc/lib/python3.6/site-packages/albumentations/core/transforms_interface.py\", line 223, in apply_to_mask\n",
      "    return self.apply(img, **{k: cv2.INTER_NEAREST if k == \"interpolation\" else v for k, v in params.items()})\n",
      "  File \"/home/taniguchi-j/anaconda3/envs/ppc/lib/python3.6/site-packages/albumentations/imgaug/transforms.py\", line 46, in apply\n",
      "    return deterministic_processor.augment_image(img)\n",
      "  File \"/home/taniguchi-j/anaconda3/envs/ppc/lib/python3.6/site-packages/imgaug/augmenters/meta.py\", line 571, in augment_image\n",
      "    return self.augment_images([image], hooks=hooks)[0]\n",
      "  File \"/home/taniguchi-j/anaconda3/envs/ppc/lib/python3.6/site-packages/imgaug/augmenters/meta.py\", line 695, in augment_images\n",
      "    hooks=hooks\n",
      "  File \"/home/taniguchi-j/anaconda3/envs/ppc/lib/python3.6/site-packages/imgaug/augmenters/geometric.py\", line 2088, in _augment_images\n",
      "    output_shape=images[i].shape\n",
      "  File \"/home/taniguchi-j/anaconda3/envs/ppc/lib/python3.6/site-packages/skimage/transform/_warps.py\", line 913, in warp\n",
      "    mode=ndi_mode, order=order, cval=cval)\n",
      "  File \"/home/taniguchi-j/anaconda3/envs/ppc/lib/python3.6/site-packages/scipy/ndimage/interpolation.py\", line 350, in map_coordinates\n",
      "    output, order, mode, cval, None, None)\n",
      "KeyboardInterrupt\n"
     ]
    },
    {
     "name": "stdout",
     "output_type": "stream",
     "text": [
      "\n"
     ]
    }
   ],
   "source": [
    "#hist = model.fit_generator(data_gen, validation_data=(valid_x, valid_y), epochs=par.n_epochs, steps_per_epoch=par.n_batch, callbacks=[cp_cb])\n",
    "hist = model.fit_generator(train_data_gen,\n",
    "                           epochs=n_epochs,\n",
    "                           steps_per_epoch=len(train_data_gen),\n",
    "                           validation_data=valid_data_gen,\n",
    "                           validation_steps=len(valid_data_gen),\n",
    "                           #shuffle = False,\n",
    "                           workers=8,\n",
    "                           use_multiprocessing=True,\n",
    "                           callbacks=[cp_cb])\n",
    "#hist = model.fit_generator(data_gen, epochs=par.n_epochs, steps_per_epoch=par.n_batch, workers=8, use_multiprocessing=True)"
   ]
  },
  {
   "cell_type": "code",
   "execution_count": null,
   "metadata": {},
   "outputs": [],
   "source": [
    "plt.figure(figsize=(30,10))\n",
    "\n",
    "plt.subplot(1,3,1)\n",
    "plt.plot(hist.history[\"loss\"], label=\"loss\")\n",
    "plt.plot(hist.history[\"val_loss\"], label=\"val_loss\")\n",
    "plt.legend()\n",
    "\n",
    "plt.subplot(1,3,2)\n",
    "plt.plot(hist.history[\"IoU\"], label=\"IoU\")\n",
    "plt.plot(hist.history[\"val_IoU\"], label=\"val_IoU\")\n",
    "plt.legend()\n",
    "plt.savefig(os.path.join(out_dir,'losscurve.png'))"
   ]
  },
  {
   "cell_type": "code",
   "execution_count": null,
   "metadata": {},
   "outputs": [],
   "source": []
  },
  {
   "cell_type": "code",
   "execution_count": null,
   "metadata": {},
   "outputs": [],
   "source": [
    "model.save(os.path.join(out_dir,'final_epoch.h5'))\n",
    "for key in sorted(hist.history.keys()):\n",
    "    np.savetxt(os.path.join(out_dir,key+'.txt'),np.array(hist.history[key]))\n"
   ]
  },
  {
   "cell_type": "code",
   "execution_count": null,
   "metadata": {},
   "outputs": [],
   "source": []
  }
 ],
 "metadata": {
  "kernelspec": {
   "display_name": "Python 3",
   "language": "python",
   "name": "python3"
  },
  "language_info": {
   "codemirror_mode": {
    "name": "ipython",
    "version": 3
   },
   "file_extension": ".py",
   "mimetype": "text/x-python",
   "name": "python",
   "nbconvert_exporter": "python",
   "pygments_lexer": "ipython3",
   "version": "3.6.9"
  }
 },
 "nbformat": 4,
 "nbformat_minor": 4
}
